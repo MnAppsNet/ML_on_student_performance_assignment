{
 "cells": [
  {
   "cell_type": "code",
   "execution_count": 122,
   "metadata": {},
   "outputs": [
    {
     "name": "stdout",
     "output_type": "stream",
     "text": [
      "Defaulting to user installation because normal site-packages is not writeable\n",
      "Requirement already satisfied: pandas in c:\\users\\kalyv\\appdata\\roaming\\python\\python37\\site-packages (1.3.4)\n",
      "Requirement already satisfied: sklearn in c:\\program files\\python37\\lib\\site-packages (0.0)\n",
      "Requirement already satisfied: numpy>=1.17.3 in c:\\program files\\python37\\lib\\site-packages (from pandas) (1.21.3)\n",
      "Requirement already satisfied: pytz>=2017.3 in c:\\users\\kalyv\\appdata\\roaming\\python\\python37\\site-packages (from pandas) (2021.3)\n",
      "Requirement already satisfied: python-dateutil>=2.7.3 in c:\\program files\\python37\\lib\\site-packages (from pandas) (2.8.2)\n",
      "Requirement already satisfied: scikit-learn in c:\\program files\\python37\\lib\\site-packages (from sklearn) (1.0.1)\n",
      "Requirement already satisfied: six>=1.5 in c:\\program files\\python37\\lib\\site-packages (from python-dateutil>=2.7.3->pandas) (1.16.0)\n",
      "Requirement already satisfied: threadpoolctl>=2.0.0 in c:\\program files\\python37\\lib\\site-packages (from scikit-learn->sklearn) (3.0.0)\n",
      "Requirement already satisfied: scipy>=1.1.0 in c:\\program files\\python37\\lib\\site-packages (from scikit-learn->sklearn) (1.7.1)\n",
      "Requirement already satisfied: joblib>=0.11 in c:\\program files\\python37\\lib\\site-packages (from scikit-learn->sklearn) (1.1.0)\n"
     ]
    },
    {
     "name": "stderr",
     "output_type": "stream",
     "text": [
      "\n",
      "[notice] A new release of pip available: 22.3 -> 23.1.2\n",
      "[notice] To update, run: python.exe -m pip install --upgrade pip\n"
     ]
    }
   ],
   "source": [
    "!pip install pandas sklearn"
   ]
  },
  {
   "cell_type": "code",
   "execution_count": 128,
   "metadata": {},
   "outputs": [],
   "source": [
    "import pandas as pd\n",
    "from sklearn.model_selection import train_test_split\n",
    "from sklearn.utils import resample"
   ]
  },
  {
   "attachments": {},
   "cell_type": "markdown",
   "metadata": {},
   "source": [
    "### Load Data"
   ]
  },
  {
   "cell_type": "code",
   "execution_count": 176,
   "metadata": {},
   "outputs": [
    {
     "data": {
      "text/html": [
       "<div>\n",
       "<style scoped>\n",
       "    .dataframe tbody tr th:only-of-type {\n",
       "        vertical-align: middle;\n",
       "    }\n",
       "\n",
       "    .dataframe tbody tr th {\n",
       "        vertical-align: top;\n",
       "    }\n",
       "\n",
       "    .dataframe thead th {\n",
       "        text-align: right;\n",
       "    }\n",
       "</style>\n",
       "<table border=\"1\" class=\"dataframe\">\n",
       "  <thead>\n",
       "    <tr style=\"text-align: right;\">\n",
       "      <th></th>\n",
       "      <th>Gen</th>\n",
       "      <th>Attendance</th>\n",
       "      <th>Major</th>\n",
       "      <th>Session</th>\n",
       "      <th>Exam1Grade</th>\n",
       "      <th>CGPA</th>\n",
       "      <th>Sponsorship</th>\n",
       "      <th>Dorm</th>\n",
       "      <th>PreReq_Grades</th>\n",
       "      <th>Class</th>\n",
       "    </tr>\n",
       "  </thead>\n",
       "  <tbody>\n",
       "    <tr>\n",
       "      <th>0</th>\n",
       "      <td>F</td>\n",
       "      <td>96.87</td>\n",
       "      <td>Literature</td>\n",
       "      <td>Evening</td>\n",
       "      <td>90.0</td>\n",
       "      <td>3.36</td>\n",
       "      <td>Y</td>\n",
       "      <td>Y</td>\n",
       "      <td>83.0</td>\n",
       "      <td>High</td>\n",
       "    </tr>\n",
       "    <tr>\n",
       "      <th>1</th>\n",
       "      <td>F</td>\n",
       "      <td>93.75</td>\n",
       "      <td>Literature</td>\n",
       "      <td>Evening</td>\n",
       "      <td>76.7</td>\n",
       "      <td>2.52</td>\n",
       "      <td>N</td>\n",
       "      <td>Y</td>\n",
       "      <td>75.0</td>\n",
       "      <td>Low</td>\n",
       "    </tr>\n",
       "    <tr>\n",
       "      <th>2</th>\n",
       "      <td>F</td>\n",
       "      <td>95.83</td>\n",
       "      <td>Literature</td>\n",
       "      <td>Morning</td>\n",
       "      <td>93.3</td>\n",
       "      <td>3.56</td>\n",
       "      <td>Y</td>\n",
       "      <td>Y</td>\n",
       "      <td>90.0</td>\n",
       "      <td>High</td>\n",
       "    </tr>\n",
       "    <tr>\n",
       "      <th>3</th>\n",
       "      <td>M</td>\n",
       "      <td>96.87</td>\n",
       "      <td>Literature</td>\n",
       "      <td>Evening</td>\n",
       "      <td>96.7</td>\n",
       "      <td>2.72</td>\n",
       "      <td>Y</td>\n",
       "      <td>N</td>\n",
       "      <td>85.0</td>\n",
       "      <td>High</td>\n",
       "    </tr>\n",
       "    <tr>\n",
       "      <th>4</th>\n",
       "      <td>M</td>\n",
       "      <td>96.87</td>\n",
       "      <td>Literature</td>\n",
       "      <td>Evening</td>\n",
       "      <td>100.0</td>\n",
       "      <td>3.03</td>\n",
       "      <td>Y</td>\n",
       "      <td>N</td>\n",
       "      <td>90.0</td>\n",
       "      <td>High</td>\n",
       "    </tr>\n",
       "  </tbody>\n",
       "</table>\n",
       "</div>"
      ],
      "text/plain": [
       "  Gen  Attendance       Major  Session  Exam1Grade  CGPA Sponsorship Dorm  \\\n",
       "0   F       96.87  Literature  Evening        90.0  3.36           Y    Y   \n",
       "1   F       93.75  Literature  Evening        76.7  2.52           N    Y   \n",
       "2   F       95.83  Literature  Morning        93.3  3.56           Y    Y   \n",
       "3   M       96.87  Literature  Evening        96.7  2.72           Y    N   \n",
       "4   M       96.87  Literature  Evening       100.0  3.03           Y    N   \n",
       "\n",
       "   PreReq_Grades Class  \n",
       "0           83.0  High  \n",
       "1           75.0   Low  \n",
       "2           90.0  High  \n",
       "3           85.0  High  \n",
       "4           90.0  High  "
      ]
     },
     "execution_count": 176,
     "metadata": {},
     "output_type": "execute_result"
    }
   ],
   "source": [
    "#Students performance on a course on Buraimi University College (BUC), Sultanate of Oman\n",
    "dataset = pd.read_csv(\n",
    "    \"./Datasets/An artificial intelligence approach to monitor student performance and devise preventive measures/data.csv\",\n",
    "    header=None,\n",
    "    names=[\"Gen\", \"Attendance\", \"Major\", \"Year\",\"Session\",\"Exam1Grade\",\"CGPA\",\"Sponsorship\",\"Dorm\",\"PreReq_Grades\",\"Class\"])\n",
    "dataset = dataset.drop(\n",
    "    ['Year'] #Drop any useless column\n",
    "    ,axis=1)\n",
    "dataset.head()"
   ]
  },
  {
   "attachments": {},
   "cell_type": "markdown",
   "metadata": {},
   "source": [
    "### Get data distributions"
   ]
  },
  {
   "cell_type": "code",
   "execution_count": 143,
   "metadata": {},
   "outputs": [
    {
     "data": {
      "text/plain": [
       "<AxesSubplot:title={'center':'Gender (0:Male, 1:Female)'}, ylabel='Frequency'>"
      ]
     },
     "execution_count": 143,
     "metadata": {},
     "output_type": "execute_result"
    },
    {
     "data": {
      "image/png": "[encoded data removed]",
      "text/plain": [
       "<Figure size 432x288 with 1 Axes>"
      ]
     },
     "metadata": {
      "needs_background": "light"
     },
     "output_type": "display_data"
    }
   ],
   "source": [
    "#Gender values distribution\n",
    "dataset.Gen.apply(lambda x: 0 if x=='M' else 1).plot(kind='hist',title=\"Gender (0:Male, 1:Female)\")"
   ]
  },
  {
   "attachments": {},
   "cell_type": "markdown",
   "metadata": {},
   "source": [
    "Note: Most of the students are female"
   ]
  },
  {
   "cell_type": "code",
   "execution_count": 144,
   "metadata": {},
   "outputs": [
    {
     "data": {
      "text/plain": [
       "<AxesSubplot:title={'center':'Major (0:Literature, 1:Translation)'}, ylabel='Frequency'>"
      ]
     },
     "execution_count": 144,
     "metadata": {},
     "output_type": "execute_result"
    },
    {
     "data": {
      "image/png": "[encoded data removed]",
      "text/plain": [
       "<Figure size 432x288 with 1 Axes>"
      ]
     },
     "metadata": {
      "needs_background": "light"
     },
     "output_type": "display_data"
    }
   ],
   "source": [
    "#Major values distribution\n",
    "dataset.Major.apply(lambda x: 0 if x=='Literature' else 1).plot(kind='hist',title=\"Major (0:Literature, 1:Translation)\")"
   ]
  },
  {
   "cell_type": "code",
   "execution_count": 145,
   "metadata": {},
   "outputs": [
    {
     "data": {
      "image/png": "[encoded data removed]",
      "text/plain": [
       "<Figure size 432x288 with 1 Axes>"
      ]
     },
     "metadata": {
      "needs_background": "light"
     },
     "output_type": "display_data"
    }
   ],
   "source": [
    "#Session values distribution\n",
    "ax = dataset.Session.apply(lambda x: 0 if x=='Morning' else 1).plot(kind='hist',title=\"Session Time (0:Morning, 1:Evening)\")"
   ]
  },
  {
   "cell_type": "code",
   "execution_count": 146,
   "metadata": {},
   "outputs": [
    {
     "data": {
      "text/plain": [
       "<AxesSubplot:title={'center':'Attendance'}, ylabel='Frequency'>"
      ]
     },
     "execution_count": 146,
     "metadata": {},
     "output_type": "execute_result"
    },
    {
     "data": {
      "image/png": "[encoded data removed]",
      "text/plain": [
       "<Figure size 432x288 with 1 Axes>"
      ]
     },
     "metadata": {
      "needs_background": "light"
     },
     "output_type": "display_data"
    }
   ],
   "source": [
    "#Attendance values distribution\n",
    "dataset.Attendance.plot(kind='hist',title=\"Attendance\")"
   ]
  },
  {
   "cell_type": "code",
   "execution_count": 147,
   "metadata": {},
   "outputs": [
    {
     "data": {
      "text/plain": [
       "<AxesSubplot:title={'center':'Exam1Grade'}, ylabel='Frequency'>"
      ]
     },
     "execution_count": 147,
     "metadata": {},
     "output_type": "execute_result"
    },
    {
     "data": {
      "image/png": "[encoded data removed]",
      "text/plain": [
       "<Figure size 432x288 with 1 Axes>"
      ]
     },
     "metadata": {
      "needs_background": "light"
     },
     "output_type": "display_data"
    }
   ],
   "source": [
    "#Exam1Grade values distribution\n",
    "dataset.Exam1Grade.plot(kind='hist',title=\"Exam1Grade\")"
   ]
  },
  {
   "cell_type": "code",
   "execution_count": 148,
   "metadata": {},
   "outputs": [
    {
     "data": {
      "text/plain": [
       "<AxesSubplot:title={'center':'CGPA'}, ylabel='Frequency'>"
      ]
     },
     "execution_count": 148,
     "metadata": {},
     "output_type": "execute_result"
    },
    {
     "data": {
      "image/png": "[encoded data removed]",
      "text/plain": [
       "<Figure size 432x288 with 1 Axes>"
      ]
     },
     "metadata": {
      "needs_background": "light"
     },
     "output_type": "display_data"
    }
   ],
   "source": [
    "#CGPA values distribution\n",
    "dataset.CGPA.plot(kind='hist',title=\"CGPA\")"
   ]
  },
  {
   "cell_type": "code",
   "execution_count": 149,
   "metadata": {},
   "outputs": [
    {
     "data": {
      "text/plain": [
       "<AxesSubplot:title={'center':'PreReqGrades'}, ylabel='Frequency'>"
      ]
     },
     "execution_count": 149,
     "metadata": {},
     "output_type": "execute_result"
    },
    {
     "data": {
      "image/png": "[encoded data removed]",
      "text/plain": [
       "<Figure size 432x288 with 1 Axes>"
      ]
     },
     "metadata": {
      "needs_background": "light"
     },
     "output_type": "display_data"
    }
   ],
   "source": [
    "#PreReq_Grades values distribution\n",
    "dataset.PreReq_Grades.plot(kind='hist',title=\"PreReqGrades\")"
   ]
  },
  {
   "cell_type": "code",
   "execution_count": 150,
   "metadata": {},
   "outputs": [
    {
     "data": {
      "text/plain": [
       "<AxesSubplot:title={'center':'Class (0:Fail,1:Pass)'}, ylabel='Frequency'>"
      ]
     },
     "execution_count": 150,
     "metadata": {},
     "output_type": "execute_result"
    },
    {
     "data": {
      "image/png": "[encoded data removed]",
      "text/plain": [
       "<Figure size 432x288 with 1 Axes>"
      ]
     },
     "metadata": {
      "needs_background": "light"
     },
     "output_type": "display_data"
    }
   ],
   "source": [
    "#Class values distribution\n",
    "dataset.Class.apply(lambda x: 0 if x=='Low' else 1).plot(kind='hist',title=\"Class (0:Fail,1:Pass)\")"
   ]
  },
  {
   "attachments": {},
   "cell_type": "markdown",
   "metadata": {},
   "source": [
    "/!\\ We can see that we have a class imbalance in our data that we need to handle later /!\\"
   ]
  },
  {
   "attachments": {},
   "cell_type": "markdown",
   "metadata": {},
   "source": [
    "### Transform Data"
   ]
  },
  {
   "cell_type": "code",
   "execution_count": 177,
   "metadata": {},
   "outputs": [
    {
     "data": {
      "text/html": [
       "<div>\n",
       "<style scoped>\n",
       "    .dataframe tbody tr th:only-of-type {\n",
       "        vertical-align: middle;\n",
       "    }\n",
       "\n",
       "    .dataframe tbody tr th {\n",
       "        vertical-align: top;\n",
       "    }\n",
       "\n",
       "    .dataframe thead th {\n",
       "        text-align: right;\n",
       "    }\n",
       "</style>\n",
       "<table border=\"1\" class=\"dataframe\">\n",
       "  <thead>\n",
       "    <tr style=\"text-align: right;\">\n",
       "      <th></th>\n",
       "      <th>Attendance</th>\n",
       "      <th>Exam1Grade</th>\n",
       "      <th>CGPA</th>\n",
       "      <th>PreReq_Grades</th>\n",
       "      <th>Class</th>\n",
       "      <th>Gen__F</th>\n",
       "      <th>Gen__M</th>\n",
       "      <th>Session__Evening</th>\n",
       "      <th>Session__Morning</th>\n",
       "      <th>Major__Literature</th>\n",
       "      <th>Major__Translation</th>\n",
       "      <th>Sponsorship__N</th>\n",
       "      <th>Sponsorship__Y</th>\n",
       "      <th>Dorm__N</th>\n",
       "      <th>Dorm__Y</th>\n",
       "    </tr>\n",
       "  </thead>\n",
       "  <tbody>\n",
       "    <tr>\n",
       "      <th>0</th>\n",
       "      <td>0.9687</td>\n",
       "      <td>0.900</td>\n",
       "      <td>0.8400</td>\n",
       "      <td>0.83</td>\n",
       "      <td>1</td>\n",
       "      <td>1</td>\n",
       "      <td>0</td>\n",
       "      <td>1</td>\n",
       "      <td>0</td>\n",
       "      <td>1</td>\n",
       "      <td>0</td>\n",
       "      <td>0</td>\n",
       "      <td>1</td>\n",
       "      <td>0</td>\n",
       "      <td>1</td>\n",
       "    </tr>\n",
       "    <tr>\n",
       "      <th>1</th>\n",
       "      <td>0.9375</td>\n",
       "      <td>0.767</td>\n",
       "      <td>0.6300</td>\n",
       "      <td>0.75</td>\n",
       "      <td>0</td>\n",
       "      <td>1</td>\n",
       "      <td>0</td>\n",
       "      <td>1</td>\n",
       "      <td>0</td>\n",
       "      <td>1</td>\n",
       "      <td>0</td>\n",
       "      <td>1</td>\n",
       "      <td>0</td>\n",
       "      <td>0</td>\n",
       "      <td>1</td>\n",
       "    </tr>\n",
       "    <tr>\n",
       "      <th>2</th>\n",
       "      <td>0.9583</td>\n",
       "      <td>0.933</td>\n",
       "      <td>0.8900</td>\n",
       "      <td>0.90</td>\n",
       "      <td>1</td>\n",
       "      <td>1</td>\n",
       "      <td>0</td>\n",
       "      <td>0</td>\n",
       "      <td>1</td>\n",
       "      <td>1</td>\n",
       "      <td>0</td>\n",
       "      <td>0</td>\n",
       "      <td>1</td>\n",
       "      <td>0</td>\n",
       "      <td>1</td>\n",
       "    </tr>\n",
       "    <tr>\n",
       "      <th>3</th>\n",
       "      <td>0.9687</td>\n",
       "      <td>0.967</td>\n",
       "      <td>0.6800</td>\n",
       "      <td>0.85</td>\n",
       "      <td>1</td>\n",
       "      <td>0</td>\n",
       "      <td>1</td>\n",
       "      <td>1</td>\n",
       "      <td>0</td>\n",
       "      <td>1</td>\n",
       "      <td>0</td>\n",
       "      <td>0</td>\n",
       "      <td>1</td>\n",
       "      <td>1</td>\n",
       "      <td>0</td>\n",
       "    </tr>\n",
       "    <tr>\n",
       "      <th>4</th>\n",
       "      <td>0.9687</td>\n",
       "      <td>1.000</td>\n",
       "      <td>0.7575</td>\n",
       "      <td>0.90</td>\n",
       "      <td>1</td>\n",
       "      <td>0</td>\n",
       "      <td>1</td>\n",
       "      <td>1</td>\n",
       "      <td>0</td>\n",
       "      <td>1</td>\n",
       "      <td>0</td>\n",
       "      <td>0</td>\n",
       "      <td>1</td>\n",
       "      <td>1</td>\n",
       "      <td>0</td>\n",
       "    </tr>\n",
       "  </tbody>\n",
       "</table>\n",
       "</div>"
      ],
      "text/plain": [
       "   Attendance  Exam1Grade    CGPA  PreReq_Grades  Class  Gen__F  Gen__M  \\\n",
       "0      0.9687       0.900  0.8400           0.83      1       1       0   \n",
       "1      0.9375       0.767  0.6300           0.75      0       1       0   \n",
       "2      0.9583       0.933  0.8900           0.90      1       1       0   \n",
       "3      0.9687       0.967  0.6800           0.85      1       0       1   \n",
       "4      0.9687       1.000  0.7575           0.90      1       0       1   \n",
       "\n",
       "   Session__Evening  Session__Morning  Major__Literature  Major__Translation  \\\n",
       "0                 1                 0                  1                   0   \n",
       "1                 1                 0                  1                   0   \n",
       "2                 0                 1                  1                   0   \n",
       "3                 1                 0                  1                   0   \n",
       "4                 1                 0                  1                   0   \n",
       "\n",
       "   Sponsorship__N  Sponsorship__Y  Dorm__N  Dorm__Y  \n",
       "0               0               1        0        1  \n",
       "1               1               0        0        1  \n",
       "2               0               1        0        1  \n",
       "3               0               1        1        0  \n",
       "4               0               1        1        0  "
      ]
     },
     "execution_count": 177,
     "metadata": {},
     "output_type": "execute_result"
    }
   ],
   "source": [
    "transformed_dataset = dataset\n",
    "#Perform one-hot encoding on non numeric values:\n",
    "encode_columns = [\n",
    "    \"Gen\",\n",
    "    \"Session\",\n",
    "    \"Major\",\n",
    "    \"Sponsorship\",\n",
    "    \"Dorm\"\n",
    "]\n",
    "for c in encode_columns:\n",
    "    transformed_dataset = transformed_dataset.join(pd.get_dummies(dataset[c],prefix=f\"{c}_\")).drop(c,axis=1)\n",
    "\n",
    "#Scale percentages in range [0,1]\n",
    "scale_percentages = [\n",
    "    \"Attendance\",\n",
    "    \"Exam1Grade\",\n",
    "    \"PreReq_Grades\"\n",
    "]\n",
    "for c in divide_percentages:\n",
    "    transformed_dataset[c] = transformed_dataset[c] / 100\n",
    "\n",
    "#Scale CGPA in range [0,1]\n",
    "transformed_dataset.CGPA = transformed_dataset.CGPA / 4\n",
    "\n",
    "#Encode class :\n",
    "transformed_dataset.Class = transformed_dataset.Class.apply(lambda x: 0 if x=='Low' else 1) #Student Passed (dataset class)\n",
    "transformed_dataset.head()"
   ]
  },
  {
   "attachments": {},
   "cell_type": "markdown",
   "metadata": {},
   "source": [
    "### Prepare Training and Test sets"
   ]
  },
  {
   "cell_type": "code",
   "execution_count": 178,
   "metadata": {},
   "outputs": [
    {
     "data": {
      "text/plain": [
       "1    92\n",
       "0    28\n",
       "Name: Class, dtype: int64"
      ]
     },
     "execution_count": 178,
     "metadata": {},
     "output_type": "execute_result"
    }
   ],
   "source": [
    "#Get 80% of data for training and 20% for testing\n",
    "X_train, X_test, y_train, y_test = train_test_split(transformed_dataset.drop(\"Class\",axis=1),transformed_dataset.Class,test_size=0.2,random_state=42)\n",
    "y_train.value_counts()"
   ]
  },
  {
   "cell_type": "code",
   "execution_count": 180,
   "metadata": {},
   "outputs": [
    {
     "name": "stdout",
     "output_type": "stream",
     "text": [
      "Class counts:\n",
      " > Minor class (Fail): 382\n",
      " > Major Class (Pass): 92\n",
      " > Total data: 474\n",
      "\n",
      "Data count after upscaling: 184\n",
      "\n",
      "Final class counts:\n",
      "1    92\n",
      "0    92\n",
      "Name: Class, dtype: int64\n"
     ]
    }
   ],
   "source": [
    "#Upscale minority class\n",
    "df = X_train.join(y_train)\n",
    "df_minor = df[df.Class==0]\n",
    "df_major = df[df.Class==1]\n",
    "majority_class_count = len(df_major)\n",
    "minority_class_count = len(df_minor)\n",
    "print(f\"Class counts:\\n > Minor class (Fail): {minority_class_count}\\n > Major Class (Pass): {majority_class_count}\\n > Total data: {minority_class_count+majority_class_count}\")\n",
    "df_minor_upscale = resample(df_minor, replace=True, n_samples=majority_class_count, random_state=42)\n",
    "df = pd.concat([df_major,df_minor_upscale])\n",
    "print(f\"\\nData count after upscaling: {len(df)}\")\n",
    "X_train = df.drop(\"Class\",axis=1)\n",
    "y_train = df.Class\n",
    "print(\"\\nFinal class counts:\")\n",
    "print(y_train.value_counts())"
   ]
  },
  {
   "attachments": {},
   "cell_type": "markdown",
   "metadata": {},
   "source": [
    "### Train models"
   ]
  },
  {
   "cell_type": "code",
   "execution_count": 185,
   "metadata": {},
   "outputs": [
    {
     "name": "stdout",
     "output_type": "stream",
     "text": [
      "RandomForest\n",
      "Accuracy: 0.8387096774193549\n"
     ]
    }
   ],
   "source": [
    "from sklearn.ensemble import RandomForestClassifier\n",
    "\n",
    "models = [\n",
    "    ['RandomForest',RandomForestClassifier(n_estimators=100, n_jobs=-1)]\n",
    "    #More models to be implemented\n",
    "]\n",
    "\n",
    "for m in models:\n",
    "    print(m[0])\n",
    "    m[1].fit(X_train, y_train)\n",
    "    print(f\"Accuracy: {m[1].score(X_test, y_test)}\")\n",
    "    #More metrics to be implemented\n"
   ]
  },
  {
   "attachments": {},
   "cell_type": "markdown",
   "metadata": {},
   "source": [
    "### Work in progress..."
   ]
  },
  {
   "cell_type": "code",
   "execution_count": null,
   "metadata": {},
   "outputs": [],
   "source": []
  }
 ],
 "metadata": {
  "kernelspec": {
   "display_name": "Python 3",
   "language": "python",
   "name": "python3"
  },
  "language_info": {
   "codemirror_mode": {
    "name": "ipython",
    "version": 3
   },
   "file_extension": ".py",
   "mimetype": "text/x-python",
   "name": "python",
   "nbconvert_exporter": "python",
   "pygments_lexer": "ipython3",
   "version": "3.7.4"
  },
  "orig_nbformat": 4
 },
 "nbformat": 4,
 "nbformat_minor": 2
}
