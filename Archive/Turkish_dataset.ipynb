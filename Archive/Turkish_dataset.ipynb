{
  "nbformat": 4,
  "nbformat_minor": 0,
  "metadata": {
    "colab": {
      "provenance": []
    },
    "kernelspec": {
      "name": "python3",
      "display_name": "Python 3"
    },
    "language_info": {
      "name": "python"
    }
  },
  "cells": [
    {
      "cell_type": "code",
      "source": [
        "import numpy as np\n",
        "import pandas as pd\n",
        "import seaborn as sns\n",
        "import matplotlib.pyplot as plt\n",
        "\n",
        "from sklearn.model_selection import train_test_split\n",
        "from sklearn.preprocessing import LabelEncoder\n",
        "from sklearn.preprocessing import StandardScaler\n",
        "from sklearn.metrics import confusion_matrix\n",
        "from sklearn.tree import DecisionTreeClassifier\n",
        "from sklearn.ensemble import RandomForestClassifier\n",
        "from sklearn.linear_model import LogisticRegression\n",
        "from sklearn.naive_bayes import GaussianNB\n",
        "from sklearn.svm import SVC\n",
        "from sklearn.metrics import accuracy_score, precision_score, recall_score, f1_score, classification_report"
      ],
      "metadata": {
        "id": "aeUXuiR_sd_k"
      },
      "execution_count": null,
      "outputs": []
    },
    {
      "cell_type": "code",
      "execution_count": null,
      "metadata": {
        "colab": {
          "base_uri": "https://localhost:8080/"
        },
        "id": "mAWPuSrVrnc_",
        "outputId": "6b778869-7f38-4f00-efe4-6b3c234fb87e"
      },
      "outputs": [
        {
          "output_type": "stream",
          "name": "stdout",
          "text": [
            "--2023-06-04 09:55:19--  https://static-content.springer.com/esm/art%3A10.1186%2Fs40561-022-00192-z/MediaObjects/40561_2022_192_MOESM1_ESM.xlsx\n",
            "Resolving static-content.springer.com (static-content.springer.com)... 151.101.0.95, 151.101.64.95, 151.101.128.95, ...\n",
            "Connecting to static-content.springer.com (static-content.springer.com)|151.101.0.95|:443... connected.\n",
            "HTTP request sent, awaiting response... 200 OK\n",
            "Length: 68124 (67K) [application/vnd.openxmlformats-officedocument.spreadsheetml.sheet]\n",
            "Saving to: ‘40561_2022_192_MOESM1_ESM.xlsx.17’\n",
            "\n",
            "\r          40561_202   0%[                    ]       0  --.-KB/s               \r40561_2022_192_MOES 100%[===================>]  66.53K  --.-KB/s    in 0.01s   \n",
            "\n",
            "2023-06-04 09:55:19 (4.48 MB/s) - ‘40561_2022_192_MOESM1_ESM.xlsx.17’ saved [68124/68124]\n",
            "\n"
          ]
        }
      ],
      "source": [
        "!wget https://static-content.springer.com/esm/art%3A10.1186%2Fs40561-022-00192-z/MediaObjects/40561_2022_192_MOESM1_ESM.xlsx"
      ]
    },
    {
      "cell_type": "code",
      "source": [
        "turkish_df = pd.read_excel('40561_2022_192_MOESM1_ESM.xlsx')\n",
        "\n",
        "\n",
        "print(turkish_df.head())"
      ],
      "metadata": {
        "colab": {
          "base_uri": "https://localhost:8080/"
        },
        "id": "7rtcPI5MsWsw",
        "outputId": "8a652f8d-a1e9-4f4c-89d7-08609cb928e0"
      },
      "execution_count": null,
      "outputs": [
        {
          "output_type": "stream",
          "name": "stdout",
          "text": [
            "  stdID  mid-term  final                               faculty  \\\n",
            "0  std1        60     68  İKTİSADİ VE İDARİ BİLİMLER FAKÜLTESİ   \n",
            "1  std2        34     67     BEDEN EĞİTİMİ VE SPOR YÜKSEKOKULU   \n",
            "2  std3        25     75                      EĞİTİM FAKÜLTESİ   \n",
            "3  std4        50     66                      EĞİTİM FAKÜLTESİ   \n",
            "4  std5        50     66                      EĞİTİM FAKÜLTESİ   \n",
            "\n",
            "                                         department  \n",
            "0                   Siyaset Bilimi ve Kamu Yönetimi  \n",
            "1                               Antrenörlük Eğitimi  \n",
            "2  Bilgisayar ve Öğretim Teknolojileri Öğretmenliği  \n",
            "3                      Sosyal Bilgiler Öğretmenliği  \n",
            "4                          Okul Öncesi Öğretmenliği  \n"
          ]
        }
      ]
    },
    {
      "cell_type": "markdown",
      "source": [
        "Educational data mining prediction of students' academic performance using machine learning algorithms\n",
        "\n",
        "| Faculty                               | Number  |\n",
        "|---------------------------------------------------|------|\n",
        "| Faculty of Education                              | 404 |\n",
        "| Faculty of Arts and Sciences                      | 319  |\n",
        "| Faculty of Health Sciences                        | 296  |\n",
        "| Faculty of Economics and Administrative Sciences  | 221  |\n",
        "| School of Physical Education and Sports           | 192  |\n",
        "| Faculty of Engineering and Architecture           | 116  |\n",
        "| School of Physical Therapy and Rehabilitation     | 92   |\n",
        "| Faculty of Islamic Sciences                       | 88   |\n",
        "| Faculty of Agriculture                            | 68   |\n",
        "| Faculty of Fine Arts                              | 30   |\n",
        "| Vocational School of Applied Sciences             | 28   |\n",
        "| Total Number of Students                          | 1854 |\n",
        "\n",
        "\n",
        "Turkish Language-I course in the 2019–2020 Fall Semester\n",
        "\n",
        "Midterm and final exam grades are ranging from 0 to 100. In this system, the end-of-semester achievement grade is calculated by taking 40% of the midterm exam and 60% of the final exam. Students with achievement grade below 60 are unsuccessful and those above 60 are successful. The midterm exam is usually held in the middle of the academic semester and the final exam is held at the end of the semester"
      ],
      "metadata": {
        "id": "R4qxnkckvNKD"
      }
    },
    {
      "cell_type": "code",
      "source": [
        "turkish_df"
      ],
      "metadata": {
        "colab": {
          "base_uri": "https://localhost:8080/",
          "height": 423
        },
        "id": "zyizqn-1vSIc",
        "outputId": "7e79537b-b6d7-4ff2-8ba2-0041ce74a8f4"
      },
      "execution_count": null,
      "outputs": [
        {
          "output_type": "execute_result",
          "data": {
            "text/plain": [
              "        stdID  mid-term  final                                faculty  \\\n",
              "0        std1        60     68   İKTİSADİ VE İDARİ BİLİMLER FAKÜLTESİ   \n",
              "1        std2        34     67      BEDEN EĞİTİMİ VE SPOR YÜKSEKOKULU   \n",
              "2        std3        25     75                       EĞİTİM FAKÜLTESİ   \n",
              "3        std4        50     66                       EĞİTİM FAKÜLTESİ   \n",
              "4        std5        50     66                       EĞİTİM FAKÜLTESİ   \n",
              "...       ...       ...    ...                                    ...   \n",
              "1849  std1850        70     84  KAMAN UYGULAMALI BİLİMLER YÜKSEKOKULU   \n",
              "1850  std1851        60     60  KAMAN UYGULAMALI BİLİMLER YÜKSEKOKULU   \n",
              "1851  std1852        56     76  KAMAN UYGULAMALI BİLİMLER YÜKSEKOKULU   \n",
              "1852  std1853        56     62  KAMAN UYGULAMALI BİLİMLER YÜKSEKOKULU   \n",
              "1853  std1854        56     92  KAMAN UYGULAMALI BİLİMLER YÜKSEKOKULU   \n",
              "\n",
              "                                            department  \n",
              "0                      Siyaset Bilimi ve Kamu Yönetimi  \n",
              "1                                  Antrenörlük Eğitimi  \n",
              "2     Bilgisayar ve Öğretim Teknolojileri Öğretmenliği  \n",
              "3                         Sosyal Bilgiler Öğretmenliği  \n",
              "4                             Okul Öncesi Öğretmenliği  \n",
              "...                                                ...  \n",
              "1849                        Yönetim Bilişim Sistemleri  \n",
              "1850                        Yönetim Bilişim Sistemleri  \n",
              "1851                        Yönetim Bilişim Sistemleri  \n",
              "1852                        Yönetim Bilişim Sistemleri  \n",
              "1853                        Yönetim Bilişim Sistemleri  \n",
              "\n",
              "[1854 rows x 5 columns]"
            ],
            "text/html": [
              "\n",
              "  <div id=\"df-3a3d7a4e-8ec4-4615-883d-7c24a926acfc\">\n",
              "    <div class=\"colab-df-container\">\n",
              "      <div>\n",
              "<style scoped>\n",
              "    .dataframe tbody tr th:only-of-type {\n",
              "        vertical-align: middle;\n",
              "    }\n",
              "\n",
              "    .dataframe tbody tr th {\n",
              "        vertical-align: top;\n",
              "    }\n",
              "\n",
              "    .dataframe thead th {\n",
              "        text-align: right;\n",
              "    }\n",
              "</style>\n",
              "<table border=\"1\" class=\"dataframe\">\n",
              "  <thead>\n",
              "    <tr style=\"text-align: right;\">\n",
              "      <th></th>\n",
              "      <th>stdID</th>\n",
              "      <th>mid-term</th>\n",
              "      <th>final</th>\n",
              "      <th>faculty</th>\n",
              "      <th>department</th>\n",
              "    </tr>\n",
              "  </thead>\n",
              "  <tbody>\n",
              "    <tr>\n",
              "      <th>0</th>\n",
              "      <td>std1</td>\n",
              "      <td>60</td>\n",
              "      <td>68</td>\n",
              "      <td>İKTİSADİ VE İDARİ BİLİMLER FAKÜLTESİ</td>\n",
              "      <td>Siyaset Bilimi ve Kamu Yönetimi</td>\n",
              "    </tr>\n",
              "    <tr>\n",
              "      <th>1</th>\n",
              "      <td>std2</td>\n",
              "      <td>34</td>\n",
              "      <td>67</td>\n",
              "      <td>BEDEN EĞİTİMİ VE SPOR YÜKSEKOKULU</td>\n",
              "      <td>Antrenörlük Eğitimi</td>\n",
              "    </tr>\n",
              "    <tr>\n",
              "      <th>2</th>\n",
              "      <td>std3</td>\n",
              "      <td>25</td>\n",
              "      <td>75</td>\n",
              "      <td>EĞİTİM FAKÜLTESİ</td>\n",
              "      <td>Bilgisayar ve Öğretim Teknolojileri Öğretmenliği</td>\n",
              "    </tr>\n",
              "    <tr>\n",
              "      <th>3</th>\n",
              "      <td>std4</td>\n",
              "      <td>50</td>\n",
              "      <td>66</td>\n",
              "      <td>EĞİTİM FAKÜLTESİ</td>\n",
              "      <td>Sosyal Bilgiler Öğretmenliği</td>\n",
              "    </tr>\n",
              "    <tr>\n",
              "      <th>4</th>\n",
              "      <td>std5</td>\n",
              "      <td>50</td>\n",
              "      <td>66</td>\n",
              "      <td>EĞİTİM FAKÜLTESİ</td>\n",
              "      <td>Okul Öncesi Öğretmenliği</td>\n",
              "    </tr>\n",
              "    <tr>\n",
              "      <th>...</th>\n",
              "      <td>...</td>\n",
              "      <td>...</td>\n",
              "      <td>...</td>\n",
              "      <td>...</td>\n",
              "      <td>...</td>\n",
              "    </tr>\n",
              "    <tr>\n",
              "      <th>1849</th>\n",
              "      <td>std1850</td>\n",
              "      <td>70</td>\n",
              "      <td>84</td>\n",
              "      <td>KAMAN UYGULAMALI BİLİMLER YÜKSEKOKULU</td>\n",
              "      <td>Yönetim Bilişim Sistemleri</td>\n",
              "    </tr>\n",
              "    <tr>\n",
              "      <th>1850</th>\n",
              "      <td>std1851</td>\n",
              "      <td>60</td>\n",
              "      <td>60</td>\n",
              "      <td>KAMAN UYGULAMALI BİLİMLER YÜKSEKOKULU</td>\n",
              "      <td>Yönetim Bilişim Sistemleri</td>\n",
              "    </tr>\n",
              "    <tr>\n",
              "      <th>1851</th>\n",
              "      <td>std1852</td>\n",
              "      <td>56</td>\n",
              "      <td>76</td>\n",
              "      <td>KAMAN UYGULAMALI BİLİMLER YÜKSEKOKULU</td>\n",
              "      <td>Yönetim Bilişim Sistemleri</td>\n",
              "    </tr>\n",
              "    <tr>\n",
              "      <th>1852</th>\n",
              "      <td>std1853</td>\n",
              "      <td>56</td>\n",
              "      <td>62</td>\n",
              "      <td>KAMAN UYGULAMALI BİLİMLER YÜKSEKOKULU</td>\n",
              "      <td>Yönetim Bilişim Sistemleri</td>\n",
              "    </tr>\n",
              "    <tr>\n",
              "      <th>1853</th>\n",
              "      <td>std1854</td>\n",
              "      <td>56</td>\n",
              "      <td>92</td>\n",
              "      <td>KAMAN UYGULAMALI BİLİMLER YÜKSEKOKULU</td>\n",
              "      <td>Yönetim Bilişim Sistemleri</td>\n",
              "    </tr>\n",
              "  </tbody>\n",
              "</table>\n",
              "<p>1854 rows × 5 columns</p>\n",
              "</div>\n",
              "      <button class=\"colab-df-convert\" onclick=\"convertToInteractive('df-3a3d7a4e-8ec4-4615-883d-7c24a926acfc')\"\n",
              "              title=\"Convert this dataframe to an interactive table.\"\n",
              "              style=\"display:none;\">\n",
              "        \n",
              "  <svg xmlns=\"http://www.w3.org/2000/svg\" height=\"24px\"viewBox=\"0 0 24 24\"\n",
              "       width=\"24px\">\n",
              "    <path d=\"M0 0h24v24H0V0z\" fill=\"none\"/>\n",
              "    <path d=\"M18.56 5.44l.94 2.06.94-2.06 2.06-.94-2.06-.94-.94-2.06-.94 2.06-2.06.94zm-11 1L8.5 8.5l.94-2.06 2.06-.94-2.06-.94L8.5 2.5l-.94 2.06-2.06.94zm10 10l.94 2.06.94-2.06 2.06-.94-2.06-.94-.94-2.06-.94 2.06-2.06.94z\"/><path d=\"M17.41 7.96l-1.37-1.37c-.4-.4-.92-.59-1.43-.59-.52 0-1.04.2-1.43.59L10.3 9.45l-7.72 7.72c-.78.78-.78 2.05 0 2.83L4 21.41c.39.39.9.59 1.41.59.51 0 1.02-.2 1.41-.59l7.78-7.78 2.81-2.81c.8-.78.8-2.07 0-2.86zM5.41 20L4 18.59l7.72-7.72 1.47 1.35L5.41 20z\"/>\n",
              "  </svg>\n",
              "      </button>\n",
              "      \n",
              "  <style>\n",
              "    .colab-df-container {\n",
              "      display:flex;\n",
              "      flex-wrap:wrap;\n",
              "      gap: 12px;\n",
              "    }\n",
              "\n",
              "    .colab-df-convert {\n",
              "      background-color: #E8F0FE;\n",
              "      border: none;\n",
              "      border-radius: 50%;\n",
              "      cursor: pointer;\n",
              "      display: none;\n",
              "      fill: #1967D2;\n",
              "      height: 32px;\n",
              "      padding: 0 0 0 0;\n",
              "      width: 32px;\n",
              "    }\n",
              "\n",
              "    .colab-df-convert:hover {\n",
              "      background-color: #E2EBFA;\n",
              "      box-shadow: 0px 1px 2px rgba(60, 64, 67, 0.3), 0px 1px 3px 1px rgba(60, 64, 67, 0.15);\n",
              "      fill: #174EA6;\n",
              "    }\n",
              "\n",
              "    [theme=dark] .colab-df-convert {\n",
              "      background-color: #3B4455;\n",
              "      fill: #D2E3FC;\n",
              "    }\n",
              "\n",
              "    [theme=dark] .colab-df-convert:hover {\n",
              "      background-color: #434B5C;\n",
              "      box-shadow: 0px 1px 3px 1px rgba(0, 0, 0, 0.15);\n",
              "      filter: drop-shadow(0px 1px 2px rgba(0, 0, 0, 0.3));\n",
              "      fill: #FFFFFF;\n",
              "    }\n",
              "  </style>\n",
              "\n",
              "      <script>\n",
              "        const buttonEl =\n",
              "          document.querySelector('#df-3a3d7a4e-8ec4-4615-883d-7c24a926acfc button.colab-df-convert');\n",
              "        buttonEl.style.display =\n",
              "          google.colab.kernel.accessAllowed ? 'block' : 'none';\n",
              "\n",
              "        async function convertToInteractive(key) {\n",
              "          const element = document.querySelector('#df-3a3d7a4e-8ec4-4615-883d-7c24a926acfc');\n",
              "          const dataTable =\n",
              "            await google.colab.kernel.invokeFunction('convertToInteractive',\n",
              "                                                     [key], {});\n",
              "          if (!dataTable) return;\n",
              "\n",
              "          const docLinkHtml = 'Like what you see? Visit the ' +\n",
              "            '<a target=\"_blank\" href=https://colab.research.google.com/notebooks/data_table.ipynb>data table notebook</a>'\n",
              "            + ' to learn more about interactive tables.';\n",
              "          element.innerHTML = '';\n",
              "          dataTable['output_type'] = 'display_data';\n",
              "          await google.colab.output.renderOutput(dataTable, element);\n",
              "          const docLink = document.createElement('div');\n",
              "          docLink.innerHTML = docLinkHtml;\n",
              "          element.appendChild(docLink);\n",
              "        }\n",
              "      </script>\n",
              "    </div>\n",
              "  </div>\n",
              "  "
            ]
          },
          "metadata": {},
          "execution_count": 258
        }
      ]
    },
    {
      "cell_type": "code",
      "source": [
        "print(turkish_df['faculty'].unique())"
      ],
      "metadata": {
        "colab": {
          "base_uri": "https://localhost:8080/"
        },
        "id": "OQyuqYhJvGGJ",
        "outputId": "ea92eda8-cb1b-4aa5-b1de-a65b431f4584"
      },
      "execution_count": null,
      "outputs": [
        {
          "output_type": "stream",
          "name": "stdout",
          "text": [
            "['İKTİSADİ VE İDARİ BİLİMLER FAKÜLTESİ'\n",
            " 'BEDEN EĞİTİMİ VE SPOR YÜKSEKOKULU' 'EĞİTİM FAKÜLTESİ' 'ZİRAAT FAKÜLTESİ'\n",
            " 'FEN EDEBİYAT FAKÜLTESİ' 'NEŞET ERTAŞ GÜZEL SANATLAR FAKÜLTESİ'\n",
            " 'MÜHENDİSLİK-MİMARLIK FAKÜLTESİ' 'İSLAMİ İLİMLER FAKÜLTESİ'\n",
            " 'FİZİK TEDAVİ VE REHABİLİTASYON YÜKSEKOKULU' 'SAĞLIK BİLİMLERİ FAKÜLTESİ'\n",
            " 'KAMAN UYGULAMALI BİLİMLER YÜKSEKOKULU']\n"
          ]
        }
      ]
    },
    {
      "cell_type": "code",
      "source": [
        "encoder = LabelEncoder()\n",
        "turkish_df['faculty'] = encoder.fit_transform(turkish_df['faculty'])\n",
        "turkish_df['department'] = encoder.fit_transform(turkish_df['department'])"
      ],
      "metadata": {
        "id": "z8ICpzcw2sf9"
      },
      "execution_count": null,
      "outputs": []
    },
    {
      "cell_type": "code",
      "source": [
        "turkish_df['achievement_grade'] = 0.4 * turkish_df['mid-term'] + 0.6 * turkish_df['final']"
      ],
      "metadata": {
        "id": "b5U5Kcka3S9L"
      },
      "execution_count": null,
      "outputs": []
    },
    {
      "cell_type": "code",
      "source": [
        "#Grade Difference: Calculate the absolute difference between the 'mid-term' and 'final' grades. This feature can capture how much a student's performance improved or declined from the mid-term to the final exam.\n",
        "turkish_df['grade_diff'] = abs(turkish_df['mid-term'] - turkish_df['final'])\n",
        "\n",
        "#Grade Ratio: Calculate the ratio of the 'mid-term' grade to the 'final' grade. This feature can capture the proportion of a student's performance in the mid-term exam compared to the final exam.\n",
        "turkish_df['grade_ratio'] = turkish_df['mid-term'] / turkish_df['final']\n",
        "\n",
        "#Grade Change: Calculate the difference between the 'mid-term' and 'final' grades and encode it as a binary feature indicating whether the grade increased or decreased. This can capture the direction of change in performance.\n",
        "turkish_df['grade_change'] = np.where(turkish_df['final'] > turkish_df['mid-term'], 1, 0)\n",
        "\n",
        "faculty_avg_grade = turkish_df.groupby('faculty')['final'].mean().reset_index()\n",
        "turkish_df = pd.merge(turkish_df, faculty_avg_grade, on='faculty', how='left')\n",
        "turkish_df.rename(columns={'final_y': 'faculty_avg_grade'}, inplace=True)\n",
        "print(turkish_df)\n",
        "department_avg_grade = turkish_df.groupby('department')['final_x'].mean().reset_index()\n",
        "turkish_df = pd.merge(turkish_df, department_avg_grade, on='department', how='left')\n",
        "turkish_df.rename(columns={'final_x_y': 'department_avg_grade'}, inplace=True)\n",
        "turkish_df.rename(columns={'final_x_x': 'final'}, inplace=True)\n",
        "print(turkish_df)"
      ],
      "metadata": {
        "colab": {
          "base_uri": "https://localhost:8080/"
        },
        "id": "sQKcQmEZw4i9",
        "outputId": "a1154533-1318-4a74-a040-f70b41f6258a"
      },
      "execution_count": null,
      "outputs": [
        {
          "output_type": "stream",
          "name": "stdout",
          "text": [
            "        stdID  mid-term  final_x  faculty  department  achievement_grade  \\\n",
            "0        std1        60       68        9          26               64.8   \n",
            "1        std2        34       67        0           0               53.8   \n",
            "2        std3        25       75        1           6               55.0   \n",
            "3        std4        50       66        1          27               59.6   \n",
            "4        std5        50       66        1          23               59.6   \n",
            "...       ...       ...      ...      ...         ...                ...   \n",
            "1849  std1850        70       84        4          37               78.4   \n",
            "1850  std1851        60       60        4          37               60.0   \n",
            "1851  std1852        56       76        4          37               68.0   \n",
            "1852  std1853        56       62        4          37               59.6   \n",
            "1853  std1854        56       92        4          37               77.6   \n",
            "\n",
            "      grade_diff  grade_ratio  grade_change  faculty_avg_grade  \n",
            "0              8     0.882353             1          62.972851  \n",
            "1             33     0.507463             1          60.250000  \n",
            "2             50     0.333333             1          68.670792  \n",
            "3             16     0.757576             1          68.670792  \n",
            "4             16     0.757576             1          68.670792  \n",
            "...          ...          ...           ...                ...  \n",
            "1849          14     0.833333             1          75.250000  \n",
            "1850           0     1.000000             0          75.250000  \n",
            "1851          20     0.736842             1          75.250000  \n",
            "1852           6     0.903226             1          75.250000  \n",
            "1853          36     0.608696             1          75.250000  \n",
            "\n",
            "[1854 rows x 10 columns]\n",
            "        stdID  mid-term  final  faculty  department  achievement_grade  \\\n",
            "0        std1        60     68        9          26               64.8   \n",
            "1        std2        34     67        0           0               53.8   \n",
            "2        std3        25     75        1           6               55.0   \n",
            "3        std4        50     66        1          27               59.6   \n",
            "4        std5        50     66        1          23               59.6   \n",
            "...       ...       ...    ...      ...         ...                ...   \n",
            "1849  std1850        70     84        4          37               78.4   \n",
            "1850  std1851        60     60        4          37               60.0   \n",
            "1851  std1852        56     76        4          37               68.0   \n",
            "1852  std1853        56     62        4          37               59.6   \n",
            "1853  std1854        56     92        4          37               77.6   \n",
            "\n",
            "      grade_diff  grade_ratio  grade_change  faculty_avg_grade  \\\n",
            "0              8     0.882353             1          62.972851   \n",
            "1             33     0.507463             1          60.250000   \n",
            "2             50     0.333333             1          68.670792   \n",
            "3             16     0.757576             1          68.670792   \n",
            "4             16     0.757576             1          68.670792   \n",
            "...          ...          ...           ...                ...   \n",
            "1849          14     0.833333             1          75.250000   \n",
            "1850           0     1.000000             0          75.250000   \n",
            "1851          20     0.736842             1          75.250000   \n",
            "1852           6     0.903226             1          75.250000   \n",
            "1853          36     0.608696             1          75.250000   \n",
            "\n",
            "      department_avg_grade  \n",
            "0                63.908046  \n",
            "1                57.881579  \n",
            "2                75.000000  \n",
            "3                83.254237  \n",
            "4                66.941176  \n",
            "...                    ...  \n",
            "1849             75.250000  \n",
            "1850             75.250000  \n",
            "1851             75.250000  \n",
            "1852             75.250000  \n",
            "1853             75.250000  \n",
            "\n",
            "[1854 rows x 11 columns]\n"
          ]
        }
      ]
    },
    {
      "cell_type": "code",
      "source": [
        "def categorize_grade(grade):\n",
        "    if grade < 32.5:\n",
        "        return 1\n",
        "    elif grade < 55:\n",
        "        return 2\n",
        "    elif grade < 77.5:\n",
        "        return 3\n",
        "    else:\n",
        "        return 4\n",
        "\n",
        "turkish_df['final_grade'] = turkish_df['final'].apply(categorize_grade)"
      ],
      "metadata": {
        "id": "Q9afveIq3Wtz"
      },
      "execution_count": null,
      "outputs": []
    },
    {
      "cell_type": "code",
      "source": [
        "turkish_df"
      ],
      "metadata": {
        "colab": {
          "base_uri": "https://localhost:8080/",
          "height": 423
        },
        "id": "_K0oWF985pKa",
        "outputId": "545bc86e-c8e0-4c08-db6e-01a6a0843cff"
      },
      "execution_count": null,
      "outputs": [
        {
          "output_type": "execute_result",
          "data": {
            "text/plain": [
              "        stdID  mid-term  final  faculty  department  achievement_grade  \\\n",
              "0        std1        60     68        9          26               64.8   \n",
              "1        std2        34     67        0           0               53.8   \n",
              "2        std3        25     75        1           6               55.0   \n",
              "3        std4        50     66        1          27               59.6   \n",
              "4        std5        50     66        1          23               59.6   \n",
              "...       ...       ...    ...      ...         ...                ...   \n",
              "1849  std1850        70     84        4          37               78.4   \n",
              "1850  std1851        60     60        4          37               60.0   \n",
              "1851  std1852        56     76        4          37               68.0   \n",
              "1852  std1853        56     62        4          37               59.6   \n",
              "1853  std1854        56     92        4          37               77.6   \n",
              "\n",
              "      grade_diff  grade_ratio  grade_change  faculty_avg_grade  \\\n",
              "0              8     0.882353             1          62.972851   \n",
              "1             33     0.507463             1          60.250000   \n",
              "2             50     0.333333             1          68.670792   \n",
              "3             16     0.757576             1          68.670792   \n",
              "4             16     0.757576             1          68.670792   \n",
              "...          ...          ...           ...                ...   \n",
              "1849          14     0.833333             1          75.250000   \n",
              "1850           0     1.000000             0          75.250000   \n",
              "1851          20     0.736842             1          75.250000   \n",
              "1852           6     0.903226             1          75.250000   \n",
              "1853          36     0.608696             1          75.250000   \n",
              "\n",
              "      department_avg_grade  final_grade  \n",
              "0                63.908046            3  \n",
              "1                57.881579            3  \n",
              "2                75.000000            3  \n",
              "3                83.254237            3  \n",
              "4                66.941176            3  \n",
              "...                    ...          ...  \n",
              "1849             75.250000            4  \n",
              "1850             75.250000            3  \n",
              "1851             75.250000            3  \n",
              "1852             75.250000            3  \n",
              "1853             75.250000            4  \n",
              "\n",
              "[1854 rows x 12 columns]"
            ],
            "text/html": [
              "\n",
              "  <div id=\"df-b8079750-5747-43d8-a3aa-905e7b8254b7\">\n",
              "    <div class=\"colab-df-container\">\n",
              "      <div>\n",
              "<style scoped>\n",
              "    .dataframe tbody tr th:only-of-type {\n",
              "        vertical-align: middle;\n",
              "    }\n",
              "\n",
              "    .dataframe tbody tr th {\n",
              "        vertical-align: top;\n",
              "    }\n",
              "\n",
              "    .dataframe thead th {\n",
              "        text-align: right;\n",
              "    }\n",
              "</style>\n",
              "<table border=\"1\" class=\"dataframe\">\n",
              "  <thead>\n",
              "    <tr style=\"text-align: right;\">\n",
              "      <th></th>\n",
              "      <th>stdID</th>\n",
              "      <th>mid-term</th>\n",
              "      <th>final</th>\n",
              "      <th>faculty</th>\n",
              "      <th>department</th>\n",
              "      <th>achievement_grade</th>\n",
              "      <th>grade_diff</th>\n",
              "      <th>grade_ratio</th>\n",
              "      <th>grade_change</th>\n",
              "      <th>faculty_avg_grade</th>\n",
              "      <th>department_avg_grade</th>\n",
              "      <th>final_grade</th>\n",
              "    </tr>\n",
              "  </thead>\n",
              "  <tbody>\n",
              "    <tr>\n",
              "      <th>0</th>\n",
              "      <td>std1</td>\n",
              "      <td>60</td>\n",
              "      <td>68</td>\n",
              "      <td>9</td>\n",
              "      <td>26</td>\n",
              "      <td>64.8</td>\n",
              "      <td>8</td>\n",
              "      <td>0.882353</td>\n",
              "      <td>1</td>\n",
              "      <td>62.972851</td>\n",
              "      <td>63.908046</td>\n",
              "      <td>3</td>\n",
              "    </tr>\n",
              "    <tr>\n",
              "      <th>1</th>\n",
              "      <td>std2</td>\n",
              "      <td>34</td>\n",
              "      <td>67</td>\n",
              "      <td>0</td>\n",
              "      <td>0</td>\n",
              "      <td>53.8</td>\n",
              "      <td>33</td>\n",
              "      <td>0.507463</td>\n",
              "      <td>1</td>\n",
              "      <td>60.250000</td>\n",
              "      <td>57.881579</td>\n",
              "      <td>3</td>\n",
              "    </tr>\n",
              "    <tr>\n",
              "      <th>2</th>\n",
              "      <td>std3</td>\n",
              "      <td>25</td>\n",
              "      <td>75</td>\n",
              "      <td>1</td>\n",
              "      <td>6</td>\n",
              "      <td>55.0</td>\n",
              "      <td>50</td>\n",
              "      <td>0.333333</td>\n",
              "      <td>1</td>\n",
              "      <td>68.670792</td>\n",
              "      <td>75.000000</td>\n",
              "      <td>3</td>\n",
              "    </tr>\n",
              "    <tr>\n",
              "      <th>3</th>\n",
              "      <td>std4</td>\n",
              "      <td>50</td>\n",
              "      <td>66</td>\n",
              "      <td>1</td>\n",
              "      <td>27</td>\n",
              "      <td>59.6</td>\n",
              "      <td>16</td>\n",
              "      <td>0.757576</td>\n",
              "      <td>1</td>\n",
              "      <td>68.670792</td>\n",
              "      <td>83.254237</td>\n",
              "      <td>3</td>\n",
              "    </tr>\n",
              "    <tr>\n",
              "      <th>4</th>\n",
              "      <td>std5</td>\n",
              "      <td>50</td>\n",
              "      <td>66</td>\n",
              "      <td>1</td>\n",
              "      <td>23</td>\n",
              "      <td>59.6</td>\n",
              "      <td>16</td>\n",
              "      <td>0.757576</td>\n",
              "      <td>1</td>\n",
              "      <td>68.670792</td>\n",
              "      <td>66.941176</td>\n",
              "      <td>3</td>\n",
              "    </tr>\n",
              "    <tr>\n",
              "      <th>...</th>\n",
              "      <td>...</td>\n",
              "      <td>...</td>\n",
              "      <td>...</td>\n",
              "      <td>...</td>\n",
              "      <td>...</td>\n",
              "      <td>...</td>\n",
              "      <td>...</td>\n",
              "      <td>...</td>\n",
              "      <td>...</td>\n",
              "      <td>...</td>\n",
              "      <td>...</td>\n",
              "      <td>...</td>\n",
              "    </tr>\n",
              "    <tr>\n",
              "      <th>1849</th>\n",
              "      <td>std1850</td>\n",
              "      <td>70</td>\n",
              "      <td>84</td>\n",
              "      <td>4</td>\n",
              "      <td>37</td>\n",
              "      <td>78.4</td>\n",
              "      <td>14</td>\n",
              "      <td>0.833333</td>\n",
              "      <td>1</td>\n",
              "      <td>75.250000</td>\n",
              "      <td>75.250000</td>\n",
              "      <td>4</td>\n",
              "    </tr>\n",
              "    <tr>\n",
              "      <th>1850</th>\n",
              "      <td>std1851</td>\n",
              "      <td>60</td>\n",
              "      <td>60</td>\n",
              "      <td>4</td>\n",
              "      <td>37</td>\n",
              "      <td>60.0</td>\n",
              "      <td>0</td>\n",
              "      <td>1.000000</td>\n",
              "      <td>0</td>\n",
              "      <td>75.250000</td>\n",
              "      <td>75.250000</td>\n",
              "      <td>3</td>\n",
              "    </tr>\n",
              "    <tr>\n",
              "      <th>1851</th>\n",
              "      <td>std1852</td>\n",
              "      <td>56</td>\n",
              "      <td>76</td>\n",
              "      <td>4</td>\n",
              "      <td>37</td>\n",
              "      <td>68.0</td>\n",
              "      <td>20</td>\n",
              "      <td>0.736842</td>\n",
              "      <td>1</td>\n",
              "      <td>75.250000</td>\n",
              "      <td>75.250000</td>\n",
              "      <td>3</td>\n",
              "    </tr>\n",
              "    <tr>\n",
              "      <th>1852</th>\n",
              "      <td>std1853</td>\n",
              "      <td>56</td>\n",
              "      <td>62</td>\n",
              "      <td>4</td>\n",
              "      <td>37</td>\n",
              "      <td>59.6</td>\n",
              "      <td>6</td>\n",
              "      <td>0.903226</td>\n",
              "      <td>1</td>\n",
              "      <td>75.250000</td>\n",
              "      <td>75.250000</td>\n",
              "      <td>3</td>\n",
              "    </tr>\n",
              "    <tr>\n",
              "      <th>1853</th>\n",
              "      <td>std1854</td>\n",
              "      <td>56</td>\n",
              "      <td>92</td>\n",
              "      <td>4</td>\n",
              "      <td>37</td>\n",
              "      <td>77.6</td>\n",
              "      <td>36</td>\n",
              "      <td>0.608696</td>\n",
              "      <td>1</td>\n",
              "      <td>75.250000</td>\n",
              "      <td>75.250000</td>\n",
              "      <td>4</td>\n",
              "    </tr>\n",
              "  </tbody>\n",
              "</table>\n",
              "<p>1854 rows × 12 columns</p>\n",
              "</div>\n",
              "      <button class=\"colab-df-convert\" onclick=\"convertToInteractive('df-b8079750-5747-43d8-a3aa-905e7b8254b7')\"\n",
              "              title=\"Convert this dataframe to an interactive table.\"\n",
              "              style=\"display:none;\">\n",
              "        \n",
              "  <svg xmlns=\"http://www.w3.org/2000/svg\" height=\"24px\"viewBox=\"0 0 24 24\"\n",
              "       width=\"24px\">\n",
              "    <path d=\"M0 0h24v24H0V0z\" fill=\"none\"/>\n",
              "    <path d=\"M18.56 5.44l.94 2.06.94-2.06 2.06-.94-2.06-.94-.94-2.06-.94 2.06-2.06.94zm-11 1L8.5 8.5l.94-2.06 2.06-.94-2.06-.94L8.5 2.5l-.94 2.06-2.06.94zm10 10l.94 2.06.94-2.06 2.06-.94-2.06-.94-.94-2.06-.94 2.06-2.06.94z\"/><path d=\"M17.41 7.96l-1.37-1.37c-.4-.4-.92-.59-1.43-.59-.52 0-1.04.2-1.43.59L10.3 9.45l-7.72 7.72c-.78.78-.78 2.05 0 2.83L4 21.41c.39.39.9.59 1.41.59.51 0 1.02-.2 1.41-.59l7.78-7.78 2.81-2.81c.8-.78.8-2.07 0-2.86zM5.41 20L4 18.59l7.72-7.72 1.47 1.35L5.41 20z\"/>\n",
              "  </svg>\n",
              "      </button>\n",
              "      \n",
              "  <style>\n",
              "    .colab-df-container {\n",
              "      display:flex;\n",
              "      flex-wrap:wrap;\n",
              "      gap: 12px;\n",
              "    }\n",
              "\n",
              "    .colab-df-convert {\n",
              "      background-color: #E8F0FE;\n",
              "      border: none;\n",
              "      border-radius: 50%;\n",
              "      cursor: pointer;\n",
              "      display: none;\n",
              "      fill: #1967D2;\n",
              "      height: 32px;\n",
              "      padding: 0 0 0 0;\n",
              "      width: 32px;\n",
              "    }\n",
              "\n",
              "    .colab-df-convert:hover {\n",
              "      background-color: #E2EBFA;\n",
              "      box-shadow: 0px 1px 2px rgba(60, 64, 67, 0.3), 0px 1px 3px 1px rgba(60, 64, 67, 0.15);\n",
              "      fill: #174EA6;\n",
              "    }\n",
              "\n",
              "    [theme=dark] .colab-df-convert {\n",
              "      background-color: #3B4455;\n",
              "      fill: #D2E3FC;\n",
              "    }\n",
              "\n",
              "    [theme=dark] .colab-df-convert:hover {\n",
              "      background-color: #434B5C;\n",
              "      box-shadow: 0px 1px 3px 1px rgba(0, 0, 0, 0.15);\n",
              "      filter: drop-shadow(0px 1px 2px rgba(0, 0, 0, 0.3));\n",
              "      fill: #FFFFFF;\n",
              "    }\n",
              "  </style>\n",
              "\n",
              "      <script>\n",
              "        const buttonEl =\n",
              "          document.querySelector('#df-b8079750-5747-43d8-a3aa-905e7b8254b7 button.colab-df-convert');\n",
              "        buttonEl.style.display =\n",
              "          google.colab.kernel.accessAllowed ? 'block' : 'none';\n",
              "\n",
              "        async function convertToInteractive(key) {\n",
              "          const element = document.querySelector('#df-b8079750-5747-43d8-a3aa-905e7b8254b7');\n",
              "          const dataTable =\n",
              "            await google.colab.kernel.invokeFunction('convertToInteractive',\n",
              "                                                     [key], {});\n",
              "          if (!dataTable) return;\n",
              "\n",
              "          const docLinkHtml = 'Like what you see? Visit the ' +\n",
              "            '<a target=\"_blank\" href=https://colab.research.google.com/notebooks/data_table.ipynb>data table notebook</a>'\n",
              "            + ' to learn more about interactive tables.';\n",
              "          element.innerHTML = '';\n",
              "          dataTable['output_type'] = 'display_data';\n",
              "          await google.colab.output.renderOutput(dataTable, element);\n",
              "          const docLink = document.createElement('div');\n",
              "          docLink.innerHTML = docLinkHtml;\n",
              "          element.appendChild(docLink);\n",
              "        }\n",
              "      </script>\n",
              "    </div>\n",
              "  </div>\n",
              "  "
            ]
          },
          "metadata": {},
          "execution_count": 264
        }
      ]
    },
    {
      "cell_type": "code",
      "source": [
        "X = turkish_df[['mid-term', 'final', 'faculty', 'department', 'grade_diff', 'grade_ratio', 'grade_change','faculty_avg_grade', 'department_avg_grade']]\n",
        "y = turkish_df['final_grade']\n",
        "X_train, X_test, y_train, y_test = train_test_split(X, y, test_size=0.2, random_state=42)\n",
        "\n",
        "print(\"Training Shape: \"+str(X_train.shape))\n",
        "print(\"Testing Shape: \"+str(X_test.shape))"
      ],
      "metadata": {
        "colab": {
          "base_uri": "https://localhost:8080/"
        },
        "id": "18OboEC33fG6",
        "outputId": "5eb211e7-2494-4820-938b-47ece9301129"
      },
      "execution_count": null,
      "outputs": [
        {
          "output_type": "stream",
          "name": "stdout",
          "text": [
            "Training Shape: (1483, 9)\n",
            "Testing Shape: (371, 9)\n"
          ]
        }
      ]
    },
    {
      "cell_type": "code",
      "source": [
        "# Scale the features\n",
        "scaler = StandardScaler()\n",
        "X_train = scaler.fit_transform(X_train)\n",
        "X_test = scaler.transform(X_test)"
      ],
      "metadata": {
        "id": "AzIyrtuBuRoC"
      },
      "execution_count": null,
      "outputs": []
    },
    {
      "cell_type": "markdown",
      "source": [
        "## Decision Trees"
      ],
      "metadata": {
        "id": "Gf_C7VCk9X9U"
      }
    },
    {
      "cell_type": "code",
      "source": [
        "classifier = DecisionTreeClassifier()\n",
        "classifier.fit(X_train, y_train)\n",
        "\n",
        "y_pred = classifier.predict(X_test)\n",
        "\n",
        "accuracy_dt = accuracy_score(y_test, y_pred)\n",
        "precision_dt = precision_score(y_test, y_pred, average='weighted')\n",
        "recall_dt = recall_score(y_test, y_pred, average='weighted')\n",
        "f1_dt = f1_score(y_test, y_pred, average='weighted')\n",
        "\n",
        "# Generate classification report\n",
        "report = classification_report(y_test, y_pred)\n",
        "print(\"Random Forest Classifier Metrics:\")\n",
        "print(\"Accuracy:\", accuracy_dt)\n",
        "print(\"Precision:\", precision_dt)\n",
        "print(\"Recall:\", recall_dt)\n",
        "print(\"F1 Score:\", f1_dt)\n",
        "print(\"Classification Report:\")\n",
        "print(report)"
      ],
      "metadata": {
        "colab": {
          "base_uri": "https://localhost:8080/"
        },
        "id": "FWj6Xmtp3hUl",
        "outputId": "6740523d-b156-4590-edbe-8f109dd0d325"
      },
      "execution_count": null,
      "outputs": [
        {
          "output_type": "stream",
          "name": "stdout",
          "text": [
            "Random Forest Classifier Metrics:\n",
            "Accuracy: 1.0\n",
            "Precision: 1.0\n",
            "Recall: 1.0\n",
            "F1 Score: 1.0\n",
            "Classification Report:\n",
            "              precision    recall  f1-score   support\n",
            "\n",
            "           1       1.00      1.00      1.00         7\n",
            "           2       1.00      1.00      1.00        45\n",
            "           3       1.00      1.00      1.00       180\n",
            "           4       1.00      1.00      1.00       139\n",
            "\n",
            "    accuracy                           1.00       371\n",
            "   macro avg       1.00      1.00      1.00       371\n",
            "weighted avg       1.00      1.00      1.00       371\n",
            "\n"
          ]
        }
      ]
    },
    {
      "cell_type": "code",
      "source": [
        "# Calculate the confusion matrix\n",
        "confusion = confusion_matrix(y_test, y_pred)\n",
        "\n",
        "# Define class labels\n",
        "class_labels = ['1', '2', '3', '4']\n",
        "\n",
        "# Create a DataFrame for the confusion matrix\n",
        "confusion_df = pd.DataFrame(confusion, index=class_labels, columns=class_labels)\n",
        "\n",
        "# Plot the confusion matrix\n",
        "plt.figure(figsize=(8, 6))\n",
        "sns.heatmap(confusion_df, annot=True, fmt=\"d\", cmap='Blues')\n",
        "plt.title('Confusion Matrix')\n",
        "plt.xlabel('Predicted')\n",
        "plt.ylabel('Actual')\n",
        "plt.show()"
      ],
      "metadata": {
        "colab": {
          "base_uri": "https://localhost:8080/",
          "height": 564
        },
        "id": "oOuXMe6K-EHl",
        "outputId": "e7635caf-2b7d-446a-df1a-c39a4838fb8e"
      },
      "execution_count": null,
      "outputs": [
        {
          "output_type": "display_data",
          "data": {
            "text/plain": [
              "<Figure size 800x600 with 2 Axes>"
            ],
            "image/png": "[encoded data removed]"
          },
          "metadata": {}
        }
      ]
    },
    {
      "cell_type": "code",
      "source": [
        "results = pd.DataFrame({'Actual Grade': y_test, 'Predicted Grade': y_pred})\n",
        "\n",
        "\n",
        "print(results)"
      ],
      "metadata": {
        "colab": {
          "base_uri": "https://localhost:8080/"
        },
        "id": "K23C5cRb4fUQ",
        "outputId": "3953a0c6-d2ba-483e-e50c-ef7087fdce8f"
      },
      "execution_count": null,
      "outputs": [
        {
          "output_type": "stream",
          "name": "stdout",
          "text": [
            "      Actual Grade  Predicted Grade\n",
            "233              3                3\n",
            "450              3                3\n",
            "1240             3                3\n",
            "1693             3                3\n",
            "411              4                4\n",
            "...            ...              ...\n",
            "471              2                2\n",
            "777              3                3\n",
            "413              3                3\n",
            "271              4                4\n",
            "184              3                3\n",
            "\n",
            "[371 rows x 2 columns]\n"
          ]
        }
      ]
    },
    {
      "cell_type": "markdown",
      "source": [
        "## Random Forest"
      ],
      "metadata": {
        "id": "-Q1juBEI-cUv"
      }
    },
    {
      "cell_type": "code",
      "source": [
        "classifier = RandomForestClassifier()\n",
        "classifier.fit(X_train, y_train)\n",
        "\n",
        "y_pred = classifier.predict(X_test)\n",
        "\n",
        "accuracy_rf = accuracy_score(y_test, y_pred)\n",
        "precision_rf = precision_score(y_test, y_pred, average='weighted')\n",
        "recall_rf = recall_score(y_test, y_pred, average='weighted')\n",
        "f1_rf = f1_score(y_test, y_pred, average='weighted')\n",
        "\n",
        "# Generate classification report\n",
        "report = classification_report(y_test, y_pred)\n",
        "print(\"Random Forest Classifier Metrics:\")\n",
        "print(\"Accuracy:\", accuracy_rf)\n",
        "print(\"Precision:\", precision_rf)\n",
        "print(\"Recall:\", recall_rf)\n",
        "print(\"F1 Score:\", f1_rf)\n",
        "print(\"Classification Report:\")\n",
        "print(report)"
      ],
      "metadata": {
        "colab": {
          "base_uri": "https://localhost:8080/"
        },
        "id": "c9aZCZuR76YI",
        "outputId": "acd49385-5fe5-4126-fffc-37bd17c54ab2"
      },
      "execution_count": null,
      "outputs": [
        {
          "output_type": "stream",
          "name": "stdout",
          "text": [
            "Random Forest Classifier Metrics:\n",
            "Accuracy: 1.0\n",
            "Precision: 1.0\n",
            "Recall: 1.0\n",
            "F1 Score: 1.0\n",
            "Classification Report:\n",
            "              precision    recall  f1-score   support\n",
            "\n",
            "           1       1.00      1.00      1.00         7\n",
            "           2       1.00      1.00      1.00        45\n",
            "           3       1.00      1.00      1.00       180\n",
            "           4       1.00      1.00      1.00       139\n",
            "\n",
            "    accuracy                           1.00       371\n",
            "   macro avg       1.00      1.00      1.00       371\n",
            "weighted avg       1.00      1.00      1.00       371\n",
            "\n"
          ]
        }
      ]
    },
    {
      "cell_type": "code",
      "source": [
        "# Calculate the confusion matrix\n",
        "confusion = confusion_matrix(y_test, y_pred)\n",
        "\n",
        "# Define class labels\n",
        "class_labels = ['1', '2', '3', '4']\n",
        "\n",
        "# Create a DataFrame for the confusion matrix\n",
        "confusion_df = pd.DataFrame(confusion, index=class_labels, columns=class_labels)\n",
        "\n",
        "# Plot the confusion matrix\n",
        "plt.figure(figsize=(8, 6))\n",
        "sns.heatmap(confusion_df, annot=True, fmt=\"d\", cmap='Blues')\n",
        "plt.title('Confusion Matrix')\n",
        "plt.xlabel('Predicted')\n",
        "plt.ylabel('Actual')\n",
        "plt.show()"
      ],
      "metadata": {
        "colab": {
          "base_uri": "https://localhost:8080/",
          "height": 564
        },
        "outputId": "5fb8b6b8-c482-422a-e772-143409cc801a",
        "id": "iacx1-JtAtnt"
      },
      "execution_count": null,
      "outputs": [
        {
          "output_type": "display_data",
          "data": {
            "text/plain": [
              "<Figure size 800x600 with 2 Axes>"
            ],
            "image/png": "[encoded data removed]"
          },
          "metadata": {}
        }
      ]
    },
    {
      "cell_type": "markdown",
      "source": [
        "## Logistic Regression"
      ],
      "metadata": {
        "id": "Yl72gxuk-qbL"
      }
    },
    {
      "cell_type": "code",
      "source": [
        "classifier = LogisticRegression()\n",
        "classifier.fit(X_train, y_train)\n",
        "\n",
        "y_pred = classifier.predict(X_test)\n",
        "\n",
        "accuracy_lr = accuracy_score(y_test, y_pred)\n",
        "precision_lr = precision_score(y_test, y_pred, average='weighted')\n",
        "recall_lr = recall_score(y_test, y_pred, average='weighted')\n",
        "f1_lr = f1_score(y_test, y_pred, average='weighted')\n",
        "\n",
        "# Generate classification report\n",
        "report = classification_report(y_test, y_pred)\n",
        "print(\"Random Forest Classifier Metrics:\")\n",
        "print(\"Accuracy:\", accuracy_lr)\n",
        "print(\"Precision:\", precision_lr)\n",
        "print(\"Recall:\", recall_lr)\n",
        "print(\"F1 Score:\", f1_lr)\n",
        "print(\"Classification Report:\")\n",
        "print(report)"
      ],
      "metadata": {
        "colab": {
          "base_uri": "https://localhost:8080/"
        },
        "id": "GhtoJ2R9-um8",
        "outputId": "2ab33412-b46f-4864-ad4b-2eb1679d753f"
      },
      "execution_count": null,
      "outputs": [
        {
          "output_type": "stream",
          "name": "stdout",
          "text": [
            "Random Forest Classifier Metrics:\n",
            "Accuracy: 0.9892183288409704\n",
            "Precision: 0.9894527129966014\n",
            "Recall: 0.9892183288409704\n",
            "F1 Score: 0.9891332852557826\n",
            "Classification Report:\n",
            "              precision    recall  f1-score   support\n",
            "\n",
            "           1       1.00      1.00      1.00         7\n",
            "           2       1.00      0.93      0.97        45\n",
            "           3       0.98      1.00      0.99       180\n",
            "           4       1.00      0.99      1.00       139\n",
            "\n",
            "    accuracy                           0.99       371\n",
            "   macro avg       0.99      0.98      0.99       371\n",
            "weighted avg       0.99      0.99      0.99       371\n",
            "\n"
          ]
        }
      ]
    },
    {
      "cell_type": "code",
      "source": [
        "# Calculate the confusion matrix\n",
        "confusion = confusion_matrix(y_test, y_pred)\n",
        "\n",
        "# Define class labels\n",
        "class_labels = ['1', '2', '3', '4']\n",
        "\n",
        "# Create a DataFrame for the confusion matrix\n",
        "confusion_df = pd.DataFrame(confusion, index=class_labels, columns=class_labels)\n",
        "\n",
        "# Plot the confusion matrix\n",
        "plt.figure(figsize=(8, 6))\n",
        "sns.heatmap(confusion_df, annot=True, fmt=\"d\", cmap='Blues')\n",
        "plt.title('Confusion Matrix')\n",
        "plt.xlabel('Predicted')\n",
        "plt.ylabel('Actual')\n",
        "plt.show()"
      ],
      "metadata": {
        "colab": {
          "base_uri": "https://localhost:8080/",
          "height": 564
        },
        "outputId": "f540f2f6-60bd-4803-8af6-155f791d7d57",
        "id": "-alJEiKKAyos"
      },
      "execution_count": null,
      "outputs": [
        {
          "output_type": "display_data",
          "data": {
            "text/plain": [
              "<Figure size 800x600 with 2 Axes>"
            ],
            "image/png": "[encoded data removed]"
          },
          "metadata": {}
        }
      ]
    },
    {
      "cell_type": "markdown",
      "source": [
        "## Support Vector Machine (SVM)"
      ],
      "metadata": {
        "id": "navORkH2--Ot"
      }
    },
    {
      "cell_type": "code",
      "source": [
        "classifier = SVC()\n",
        "classifier.fit(X_train, y_train)\n",
        "\n",
        "y_pred = classifier.predict(X_test)\n",
        "\n",
        "accuracy_svm = accuracy_score(y_test, y_pred)\n",
        "precision_svm = precision_score(y_test, y_pred, average='weighted')\n",
        "recall_svm = recall_score(y_test, y_pred, average='weighted')\n",
        "f1_svm = f1_score(y_test, y_pred, average='weighted')\n",
        "\n",
        "# Generate classification report\n",
        "report = classification_report(y_test, y_pred)\n",
        "print(\"Random Forest Classifier Metrics:\")\n",
        "print(\"Accuracy:\", accuracy_svm)\n",
        "print(\"Precision:\", precision_svm)\n",
        "print(\"Recall:\", recall_svm)\n",
        "print(\"F1 Score:\", f1_svm)\n",
        "print(\"Classification Report:\")\n",
        "print(report)"
      ],
      "metadata": {
        "colab": {
          "base_uri": "https://localhost:8080/"
        },
        "id": "8fMcqLRg_Ege",
        "outputId": "a3401629-02ec-49ea-d684-ce782ac65f67"
      },
      "execution_count": null,
      "outputs": [
        {
          "output_type": "stream",
          "name": "stdout",
          "text": [
            "Random Forest Classifier Metrics:\n",
            "Accuracy: 0.967654986522911\n",
            "Precision: 0.9681288567791486\n",
            "Recall: 0.967654986522911\n",
            "F1 Score: 0.9671530328409258\n",
            "Classification Report:\n",
            "              precision    recall  f1-score   support\n",
            "\n",
            "           1       0.86      0.86      0.86         7\n",
            "           2       0.97      0.84      0.90        45\n",
            "           3       0.95      0.99      0.97       180\n",
            "           4       0.99      0.99      0.99       139\n",
            "\n",
            "    accuracy                           0.97       371\n",
            "   macro avg       0.94      0.92      0.93       371\n",
            "weighted avg       0.97      0.97      0.97       371\n",
            "\n"
          ]
        }
      ]
    },
    {
      "cell_type": "code",
      "source": [
        "# Calculate the confusion matrix\n",
        "confusion = confusion_matrix(y_test, y_pred)\n",
        "\n",
        "# Define class labels\n",
        "class_labels = ['1', '2', '3', '4']\n",
        "\n",
        "# Create a DataFrame for the confusion matrix\n",
        "confusion_df = pd.DataFrame(confusion, index=class_labels, columns=class_labels)\n",
        "\n",
        "# Plot the confusion matrix\n",
        "plt.figure(figsize=(8, 6))\n",
        "sns.heatmap(confusion_df, annot=True, fmt=\"d\", cmap='Blues')\n",
        "plt.title('Confusion Matrix')\n",
        "plt.xlabel('Predicted')\n",
        "plt.ylabel('Actual')\n",
        "plt.show()"
      ],
      "metadata": {
        "colab": {
          "base_uri": "https://localhost:8080/",
          "height": 564
        },
        "outputId": "112d32cb-d1bd-4b71-ae67-9da0a2a3285a",
        "id": "JgiadeYXA0et"
      },
      "execution_count": null,
      "outputs": [
        {
          "output_type": "display_data",
          "data": {
            "text/plain": [
              "<Figure size 800x600 with 2 Axes>"
            ],
            "image/png": "[encoded data removed]"
          },
          "metadata": {}
        }
      ]
    },
    {
      "cell_type": "code",
      "source": [
        "classifier = GaussianNB()\n",
        "classifier.fit(X_train, y_train)\n",
        "\n",
        "y_pred = classifier.predict(X_test)\n",
        "\n",
        "accuracy_nb = accuracy_score(y_test, y_pred)\n",
        "precision_nb = precision_score(y_test, y_pred, average='weighted')\n",
        "recall_nb = recall_score(y_test, y_pred, average='weighted')\n",
        "f1_nb = f1_score(y_test, y_pred, average='weighted')\n",
        "\n",
        "# Generate classification report\n",
        "report = classification_report(y_test, y_pred)\n",
        "print(\"Random Forest Classifier Metrics:\")\n",
        "print(\"Accuracy:\", accuracy_nb)\n",
        "print(\"Precision:\", precision_nb)\n",
        "print(\"Recall:\", recall_nb)\n",
        "print(\"F1 Score:\", f1_nb)\n",
        "print(\"Classification Report:\")\n",
        "print(report)"
      ],
      "metadata": {
        "colab": {
          "base_uri": "https://localhost:8080/"
        },
        "id": "56_0A8T7m3a3",
        "outputId": "81c5814a-37b8-4b96-8998-aa121f72c404"
      },
      "execution_count": null,
      "outputs": [
        {
          "output_type": "stream",
          "name": "stdout",
          "text": [
            "Random Forest Classifier Metrics:\n",
            "Accuracy: 0.8840970350404312\n",
            "Precision: 0.8866709624092015\n",
            "Recall: 0.8840970350404312\n",
            "F1 Score: 0.8842066733500444\n",
            "Classification Report:\n",
            "              precision    recall  f1-score   support\n",
            "\n",
            "           1       0.70      1.00      0.82         7\n",
            "           2       0.89      0.87      0.88        45\n",
            "           3       0.87      0.91      0.89       180\n",
            "           4       0.91      0.85      0.88       139\n",
            "\n",
            "    accuracy                           0.88       371\n",
            "   macro avg       0.84      0.91      0.87       371\n",
            "weighted avg       0.89      0.88      0.88       371\n",
            "\n"
          ]
        }
      ]
    },
    {
      "cell_type": "code",
      "source": [
        "# Evaluation metrics for each model\n",
        "models = ['Decision Tree', 'Random Forest', 'Logistic Regression', 'SVM', 'Naive Bayes']\n",
        "accuracy = [accuracy_dt, accuracy_rf, accuracy_lr, accuracy_svm, accuracy_nb]\n",
        "precision = [precision_dt, precision_rf, precision_lr, precision_svm, precision_nb]\n",
        "recall = [recall_dt, recall_rf, recall_lr, recall_svm, recall_nb]\n",
        "f1 = [f1_dt, f1_rf, f1_lr, f1_svm, f1_nb]\n",
        "\n",
        "# Set the width of each bar\n",
        "bar_width = 0.15\n",
        "\n",
        "# Set the position of the bars on the x-axis\n",
        "r1 = np.arange(len(models))\n",
        "r2 = [x + bar_width for x in r1]\n",
        "r3 = [x + bar_width for x in r2]\n",
        "r4 = [x + bar_width for x in r3]\n",
        "\n",
        "# Create a grouped bar plot\n",
        "plt.figure(figsize=(10, 6))\n",
        "plt.bar(r1, accuracy, color='b', width=bar_width, edgecolor='white', label='Accuracy')\n",
        "plt.bar(r2, precision, color='y', width=bar_width, edgecolor='white', label='Precision')\n",
        "plt.bar(r3, recall, color='c', width=bar_width, edgecolor='white', label='Recall')\n",
        "plt.bar(r4, f1, color='m', width=bar_width, edgecolor='white', label='F1 Score')\n",
        "\n",
        "# Add xticks and labels\n",
        "plt.xlabel('Models')\n",
        "plt.ylabel('Scores')\n",
        "plt.title('Model Performance Comparison')\n",
        "plt.xticks([r + bar_width for r in range(len(models))], models)\n",
        "plt.legend(fontsize='small', bbox_to_anchor=(1.02, 1.0))\n",
        "\n",
        "# Show plot\n",
        "plt.tight_layout()\n",
        "plt.show()"
      ],
      "metadata": {
        "colab": {
          "base_uri": "https://localhost:8080/",
          "height": 607
        },
        "id": "5cH0k5OJ__Dc",
        "outputId": "69ac1e98-a1ff-411d-e997-47bb23ef3ee5"
      },
      "execution_count": null,
      "outputs": [
        {
          "output_type": "display_data",
          "data": {
            "text/plain": [
              "<Figure size 1000x600 with 1 Axes>"
            ],
            "image/png": "[encoded data removed]"
          },
          "metadata": {}
        }
      ]
    }
  ]
}