{
  "nbformat": 4,
  "nbformat_minor": 0,
  "metadata": {
    "colab": {
      "provenance": []
    },
    "kernelspec": {
      "name": "python3",
      "display_name": "Python 3"
    },
    "language_info": {
      "name": "python"
    }
  },
  "cells": [
    {
      "cell_type": "code",
      "source": [
        "import numpy as np\n",
        "import pandas as pd\n",
        "import seaborn as sns\n",
        "import matplotlib.pyplot as plt\n",
        "\n",
        "from sklearn.model_selection import train_test_split\n",
        "from sklearn.preprocessing import LabelEncoder\n",
        "from sklearn.metrics import confusion_matrix\n",
        "from sklearn.tree import DecisionTreeClassifier\n",
        "from sklearn.ensemble import RandomForestClassifier\n",
        "from sklearn.linear_model import LogisticRegression\n",
        "from sklearn.svm import SVC\n",
        "from sklearn.metrics import accuracy_score, precision_score, recall_score, f1_score, classification_report"
      ],
      "metadata": {
        "id": "aeUXuiR_sd_k"
      },
      "execution_count": 1,
      "outputs": []
    },
    {
      "cell_type": "code",
      "execution_count": 2,
      "metadata": {
        "colab": {
          "base_uri": "https://localhost:8080/"
        },
        "id": "mAWPuSrVrnc_",
        "outputId": "b6df809b-2849-4894-c68e-b6f4e9431674"
      },
      "outputs": [
        {
          "output_type": "stream",
          "name": "stdout",
          "text": [
            "--2023-06-03 11:34:11--  https://static-content.springer.com/esm/art%3A10.1186%2Fs40561-022-00192-z/MediaObjects/40561_2022_192_MOESM1_ESM.xlsx\n",
            "Resolving static-content.springer.com (static-content.springer.com)... 151.101.0.95, 151.101.64.95, 151.101.128.95, ...\n",
            "Connecting to static-content.springer.com (static-content.springer.com)|151.101.0.95|:443... connected.\n",
            "HTTP request sent, awaiting response... 200 OK\n",
            "Length: 68124 (67K) [application/vnd.openxmlformats-officedocument.spreadsheetml.sheet]\n",
            "Saving to: ‘40561_2022_192_MOESM1_ESM.xlsx’\n",
            "\n",
            "\r          40561_202   0%[                    ]       0  --.-KB/s               \r40561_2022_192_MOES 100%[===================>]  66.53K  --.-KB/s    in 0.01s   \n",
            "\n",
            "2023-06-03 11:34:12 (4.56 MB/s) - ‘40561_2022_192_MOESM1_ESM.xlsx’ saved [68124/68124]\n",
            "\n"
          ]
        }
      ],
      "source": [
        "!wget https://static-content.springer.com/esm/art%3A10.1186%2Fs40561-022-00192-z/MediaObjects/40561_2022_192_MOESM1_ESM.xlsx"
      ]
    },
    {
      "cell_type": "code",
      "source": [
        "turkish_df = pd.read_excel('40561_2022_192_MOESM1_ESM.xlsx')\n",
        "\n",
        "\n",
        "print(turkish_df.head())"
      ],
      "metadata": {
        "colab": {
          "base_uri": "https://localhost:8080/"
        },
        "id": "7rtcPI5MsWsw",
        "outputId": "ef4e041a-46b9-46e0-b68c-7cacdfd3ab57"
      },
      "execution_count": 3,
      "outputs": [
        {
          "output_type": "stream",
          "name": "stdout",
          "text": [
            "  stdID  mid-term  final                               faculty  \\\n",
            "0  std1        60     68  İKTİSADİ VE İDARİ BİLİMLER FAKÜLTESİ   \n",
            "1  std2        34     67     BEDEN EĞİTİMİ VE SPOR YÜKSEKOKULU   \n",
            "2  std3        25     75                      EĞİTİM FAKÜLTESİ   \n",
            "3  std4        50     66                      EĞİTİM FAKÜLTESİ   \n",
            "4  std5        50     66                      EĞİTİM FAKÜLTESİ   \n",
            "\n",
            "                                         department  \n",
            "0                   Siyaset Bilimi ve Kamu Yönetimi  \n",
            "1                               Antrenörlük Eğitimi  \n",
            "2  Bilgisayar ve Öğretim Teknolojileri Öğretmenliği  \n",
            "3                      Sosyal Bilgiler Öğretmenliği  \n",
            "4                          Okul Öncesi Öğretmenliği  \n"
          ]
        }
      ]
    },
    {
      "cell_type": "markdown",
      "source": [
        "Educational data mining prediction of students' academic performance using machine learning algorithms\n",
        "\n",
        "| Faculty of Education                               | 404  |\n",
        "|---------------------------------------------------|------|\n",
        "| Faculty of Arts and Sciences                      | 319  |\n",
        "| Faculty of Health Sciences                        | 296  |\n",
        "| Faculty of Economics and Administrative Sciences  | 221  |\n",
        "| School of Physical Education and Sports           | 192  |\n",
        "| Faculty of Engineering and Architecture           | 116  |\n",
        "| School of Physical Therapy and Rehabilitation     | 92   |\n",
        "| Faculty of Islamic Sciences                       | 88   |\n",
        "| Faculty of Agriculture                            | 68   |\n",
        "| Faculty of Fine Arts                              | 30   |\n",
        "| Vocational School of Applied Sciences             | 28   |\n",
        "| Total Number of Students                          | 1854 |\n",
        "\n",
        "\n",
        "Turkish Language-I course in the 2019–2020 Fall Semester\n",
        "\n",
        "Midterm and final exam grades are ranging from 0 to 100. In this system, the end-of-semester achievement grade is calculated by taking 40% of the midterm exam and 60% of the final exam. Students with achievement grade below 60 are unsuccessful and those above 60 are successful. The midterm exam is usually held in the middle of the academic semester and the final exam is held at the end of the semester"
      ],
      "metadata": {
        "id": "R4qxnkckvNKD"
      }
    },
    {
      "cell_type": "code",
      "source": [
        "turkish_df"
      ],
      "metadata": {
        "colab": {
          "base_uri": "https://localhost:8080/",
          "height": 423
        },
        "id": "zyizqn-1vSIc",
        "outputId": "3f6108ec-d993-4acf-b93f-aca5859e69f9"
      },
      "execution_count": 4,
      "outputs": [
        {
          "output_type": "execute_result",
          "data": {
            "text/plain": [
              "        stdID  mid-term  final                                faculty  \\\n",
              "0        std1        60     68   İKTİSADİ VE İDARİ BİLİMLER FAKÜLTESİ   \n",
              "1        std2        34     67      BEDEN EĞİTİMİ VE SPOR YÜKSEKOKULU   \n",
              "2        std3        25     75                       EĞİTİM FAKÜLTESİ   \n",
              "3        std4        50     66                       EĞİTİM FAKÜLTESİ   \n",
              "4        std5        50     66                       EĞİTİM FAKÜLTESİ   \n",
              "...       ...       ...    ...                                    ...   \n",
              "1849  std1850        70     84  KAMAN UYGULAMALI BİLİMLER YÜKSEKOKULU   \n",
              "1850  std1851        60     60  KAMAN UYGULAMALI BİLİMLER YÜKSEKOKULU   \n",
              "1851  std1852        56     76  KAMAN UYGULAMALI BİLİMLER YÜKSEKOKULU   \n",
              "1852  std1853        56     62  KAMAN UYGULAMALI BİLİMLER YÜKSEKOKULU   \n",
              "1853  std1854        56     92  KAMAN UYGULAMALI BİLİMLER YÜKSEKOKULU   \n",
              "\n",
              "                                            department  \n",
              "0                      Siyaset Bilimi ve Kamu Yönetimi  \n",
              "1                                  Antrenörlük Eğitimi  \n",
              "2     Bilgisayar ve Öğretim Teknolojileri Öğretmenliği  \n",
              "3                         Sosyal Bilgiler Öğretmenliği  \n",
              "4                             Okul Öncesi Öğretmenliği  \n",
              "...                                                ...  \n",
              "1849                        Yönetim Bilişim Sistemleri  \n",
              "1850                        Yönetim Bilişim Sistemleri  \n",
              "1851                        Yönetim Bilişim Sistemleri  \n",
              "1852                        Yönetim Bilişim Sistemleri  \n",
              "1853                        Yönetim Bilişim Sistemleri  \n",
              "\n",
              "[1854 rows x 5 columns]"
            ],
            "text/html": [
              "\n",
              "  <div id=\"df-5156aacb-82d5-4b05-a426-1d27fd87ff55\">\n",
              "    <div class=\"colab-df-container\">\n",
              "      <div>\n",
              "<style scoped>\n",
              "    .dataframe tbody tr th:only-of-type {\n",
              "        vertical-align: middle;\n",
              "    }\n",
              "\n",
              "    .dataframe tbody tr th {\n",
              "        vertical-align: top;\n",
              "    }\n",
              "\n",
              "    .dataframe thead th {\n",
              "        text-align: right;\n",
              "    }\n",
              "</style>\n",
              "<table border=\"1\" class=\"dataframe\">\n",
              "  <thead>\n",
              "    <tr style=\"text-align: right;\">\n",
              "      <th></th>\n",
              "      <th>stdID</th>\n",
              "      <th>mid-term</th>\n",
              "      <th>final</th>\n",
              "      <th>faculty</th>\n",
              "      <th>department</th>\n",
              "    </tr>\n",
              "  </thead>\n",
              "  <tbody>\n",
              "    <tr>\n",
              "      <th>0</th>\n",
              "      <td>std1</td>\n",
              "      <td>60</td>\n",
              "      <td>68</td>\n",
              "      <td>İKTİSADİ VE İDARİ BİLİMLER FAKÜLTESİ</td>\n",
              "      <td>Siyaset Bilimi ve Kamu Yönetimi</td>\n",
              "    </tr>\n",
              "    <tr>\n",
              "      <th>1</th>\n",
              "      <td>std2</td>\n",
              "      <td>34</td>\n",
              "      <td>67</td>\n",
              "      <td>BEDEN EĞİTİMİ VE SPOR YÜKSEKOKULU</td>\n",
              "      <td>Antrenörlük Eğitimi</td>\n",
              "    </tr>\n",
              "    <tr>\n",
              "      <th>2</th>\n",
              "      <td>std3</td>\n",
              "      <td>25</td>\n",
              "      <td>75</td>\n",
              "      <td>EĞİTİM FAKÜLTESİ</td>\n",
              "      <td>Bilgisayar ve Öğretim Teknolojileri Öğretmenliği</td>\n",
              "    </tr>\n",
              "    <tr>\n",
              "      <th>3</th>\n",
              "      <td>std4</td>\n",
              "      <td>50</td>\n",
              "      <td>66</td>\n",
              "      <td>EĞİTİM FAKÜLTESİ</td>\n",
              "      <td>Sosyal Bilgiler Öğretmenliği</td>\n",
              "    </tr>\n",
              "    <tr>\n",
              "      <th>4</th>\n",
              "      <td>std5</td>\n",
              "      <td>50</td>\n",
              "      <td>66</td>\n",
              "      <td>EĞİTİM FAKÜLTESİ</td>\n",
              "      <td>Okul Öncesi Öğretmenliği</td>\n",
              "    </tr>\n",
              "    <tr>\n",
              "      <th>...</th>\n",
              "      <td>...</td>\n",
              "      <td>...</td>\n",
              "      <td>...</td>\n",
              "      <td>...</td>\n",
              "      <td>...</td>\n",
              "    </tr>\n",
              "    <tr>\n",
              "      <th>1849</th>\n",
              "      <td>std1850</td>\n",
              "      <td>70</td>\n",
              "      <td>84</td>\n",
              "      <td>KAMAN UYGULAMALI BİLİMLER YÜKSEKOKULU</td>\n",
              "      <td>Yönetim Bilişim Sistemleri</td>\n",
              "    </tr>\n",
              "    <tr>\n",
              "      <th>1850</th>\n",
              "      <td>std1851</td>\n",
              "      <td>60</td>\n",
              "      <td>60</td>\n",
              "      <td>KAMAN UYGULAMALI BİLİMLER YÜKSEKOKULU</td>\n",
              "      <td>Yönetim Bilişim Sistemleri</td>\n",
              "    </tr>\n",
              "    <tr>\n",
              "      <th>1851</th>\n",
              "      <td>std1852</td>\n",
              "      <td>56</td>\n",
              "      <td>76</td>\n",
              "      <td>KAMAN UYGULAMALI BİLİMLER YÜKSEKOKULU</td>\n",
              "      <td>Yönetim Bilişim Sistemleri</td>\n",
              "    </tr>\n",
              "    <tr>\n",
              "      <th>1852</th>\n",
              "      <td>std1853</td>\n",
              "      <td>56</td>\n",
              "      <td>62</td>\n",
              "      <td>KAMAN UYGULAMALI BİLİMLER YÜKSEKOKULU</td>\n",
              "      <td>Yönetim Bilişim Sistemleri</td>\n",
              "    </tr>\n",
              "    <tr>\n",
              "      <th>1853</th>\n",
              "      <td>std1854</td>\n",
              "      <td>56</td>\n",
              "      <td>92</td>\n",
              "      <td>KAMAN UYGULAMALI BİLİMLER YÜKSEKOKULU</td>\n",
              "      <td>Yönetim Bilişim Sistemleri</td>\n",
              "    </tr>\n",
              "  </tbody>\n",
              "</table>\n",
              "<p>1854 rows × 5 columns</p>\n",
              "</div>\n",
              "      <button class=\"colab-df-convert\" onclick=\"convertToInteractive('df-5156aacb-82d5-4b05-a426-1d27fd87ff55')\"\n",
              "              title=\"Convert this dataframe to an interactive table.\"\n",
              "              style=\"display:none;\">\n",
              "        \n",
              "  <svg xmlns=\"http://www.w3.org/2000/svg\" height=\"24px\"viewBox=\"0 0 24 24\"\n",
              "       width=\"24px\">\n",
              "    <path d=\"M0 0h24v24H0V0z\" fill=\"none\"/>\n",
              "    <path d=\"M18.56 5.44l.94 2.06.94-2.06 2.06-.94-2.06-.94-.94-2.06-.94 2.06-2.06.94zm-11 1L8.5 8.5l.94-2.06 2.06-.94-2.06-.94L8.5 2.5l-.94 2.06-2.06.94zm10 10l.94 2.06.94-2.06 2.06-.94-2.06-.94-.94-2.06-.94 2.06-2.06.94z\"/><path d=\"M17.41 7.96l-1.37-1.37c-.4-.4-.92-.59-1.43-.59-.52 0-1.04.2-1.43.59L10.3 9.45l-7.72 7.72c-.78.78-.78 2.05 0 2.83L4 21.41c.39.39.9.59 1.41.59.51 0 1.02-.2 1.41-.59l7.78-7.78 2.81-2.81c.8-.78.8-2.07 0-2.86zM5.41 20L4 18.59l7.72-7.72 1.47 1.35L5.41 20z\"/>\n",
              "  </svg>\n",
              "      </button>\n",
              "      \n",
              "  <style>\n",
              "    .colab-df-container {\n",
              "      display:flex;\n",
              "      flex-wrap:wrap;\n",
              "      gap: 12px;\n",
              "    }\n",
              "\n",
              "    .colab-df-convert {\n",
              "      background-color: #E8F0FE;\n",
              "      border: none;\n",
              "      border-radius: 50%;\n",
              "      cursor: pointer;\n",
              "      display: none;\n",
              "      fill: #1967D2;\n",
              "      height: 32px;\n",
              "      padding: 0 0 0 0;\n",
              "      width: 32px;\n",
              "    }\n",
              "\n",
              "    .colab-df-convert:hover {\n",
              "      background-color: #E2EBFA;\n",
              "      box-shadow: 0px 1px 2px rgba(60, 64, 67, 0.3), 0px 1px 3px 1px rgba(60, 64, 67, 0.15);\n",
              "      fill: #174EA6;\n",
              "    }\n",
              "\n",
              "    [theme=dark] .colab-df-convert {\n",
              "      background-color: #3B4455;\n",
              "      fill: #D2E3FC;\n",
              "    }\n",
              "\n",
              "    [theme=dark] .colab-df-convert:hover {\n",
              "      background-color: #434B5C;\n",
              "      box-shadow: 0px 1px 3px 1px rgba(0, 0, 0, 0.15);\n",
              "      filter: drop-shadow(0px 1px 2px rgba(0, 0, 0, 0.3));\n",
              "      fill: #FFFFFF;\n",
              "    }\n",
              "  </style>\n",
              "\n",
              "      <script>\n",
              "        const buttonEl =\n",
              "          document.querySelector('#df-5156aacb-82d5-4b05-a426-1d27fd87ff55 button.colab-df-convert');\n",
              "        buttonEl.style.display =\n",
              "          google.colab.kernel.accessAllowed ? 'block' : 'none';\n",
              "\n",
              "        async function convertToInteractive(key) {\n",
              "          const element = document.querySelector('#df-5156aacb-82d5-4b05-a426-1d27fd87ff55');\n",
              "          const dataTable =\n",
              "            await google.colab.kernel.invokeFunction('convertToInteractive',\n",
              "                                                     [key], {});\n",
              "          if (!dataTable) return;\n",
              "\n",
              "          const docLinkHtml = 'Like what you see? Visit the ' +\n",
              "            '<a target=\"_blank\" href=https://colab.research.google.com/notebooks/data_table.ipynb>data table notebook</a>'\n",
              "            + ' to learn more about interactive tables.';\n",
              "          element.innerHTML = '';\n",
              "          dataTable['output_type'] = 'display_data';\n",
              "          await google.colab.output.renderOutput(dataTable, element);\n",
              "          const docLink = document.createElement('div');\n",
              "          docLink.innerHTML = docLinkHtml;\n",
              "          element.appendChild(docLink);\n",
              "        }\n",
              "      </script>\n",
              "    </div>\n",
              "  </div>\n",
              "  "
            ]
          },
          "metadata": {},
          "execution_count": 4
        }
      ]
    },
    {
      "cell_type": "code",
      "source": [
        "encoder = LabelEncoder()\n",
        "turkish_df['faculty'] = encoder.fit_transform(turkish_df['faculty'])\n",
        "turkish_df['department'] = encoder.fit_transform(turkish_df['department'])"
      ],
      "metadata": {
        "id": "z8ICpzcw2sf9"
      },
      "execution_count": 5,
      "outputs": []
    },
    {
      "cell_type": "code",
      "source": [
        "turkish_df['achievement_grade'] = 0.4 * turkish_df['mid-term'] + 0.6 * turkish_df['final']"
      ],
      "metadata": {
        "id": "b5U5Kcka3S9L"
      },
      "execution_count": 6,
      "outputs": []
    },
    {
      "cell_type": "code",
      "source": [
        "def categorize_grade(grade):\n",
        "    if grade < 32.5:\n",
        "        return 1\n",
        "    elif grade < 55:\n",
        "        return 2\n",
        "    elif grade < 77.5:\n",
        "        return 3\n",
        "    else:\n",
        "        return 4\n",
        "\n",
        "turkish_df['final_grade'] = turkish_df['final'].apply(categorize_grade)"
      ],
      "metadata": {
        "id": "Q9afveIq3Wtz"
      },
      "execution_count": 7,
      "outputs": []
    },
    {
      "cell_type": "code",
      "source": [
        "turkish_df"
      ],
      "metadata": {
        "colab": {
          "base_uri": "https://localhost:8080/",
          "height": 423
        },
        "id": "_K0oWF985pKa",
        "outputId": "c7af06f7-f1bf-489d-bd09-d3e4893ce052"
      },
      "execution_count": 8,
      "outputs": [
        {
          "output_type": "execute_result",
          "data": {
            "text/plain": [
              "        stdID  mid-term  final  faculty  department  achievement_grade  \\\n",
              "0        std1        60     68        9          26               64.8   \n",
              "1        std2        34     67        0           0               53.8   \n",
              "2        std3        25     75        1           6               55.0   \n",
              "3        std4        50     66        1          27               59.6   \n",
              "4        std5        50     66        1          23               59.6   \n",
              "...       ...       ...    ...      ...         ...                ...   \n",
              "1849  std1850        70     84        4          37               78.4   \n",
              "1850  std1851        60     60        4          37               60.0   \n",
              "1851  std1852        56     76        4          37               68.0   \n",
              "1852  std1853        56     62        4          37               59.6   \n",
              "1853  std1854        56     92        4          37               77.6   \n",
              "\n",
              "      final_grade  \n",
              "0               3  \n",
              "1               3  \n",
              "2               3  \n",
              "3               3  \n",
              "4               3  \n",
              "...           ...  \n",
              "1849            4  \n",
              "1850            3  \n",
              "1851            3  \n",
              "1852            3  \n",
              "1853            4  \n",
              "\n",
              "[1854 rows x 7 columns]"
            ],
            "text/html": [
              "\n",
              "  <div id=\"df-4da46bea-d6db-4b38-bdeb-b6c3fdc471f8\">\n",
              "    <div class=\"colab-df-container\">\n",
              "      <div>\n",
              "<style scoped>\n",
              "    .dataframe tbody tr th:only-of-type {\n",
              "        vertical-align: middle;\n",
              "    }\n",
              "\n",
              "    .dataframe tbody tr th {\n",
              "        vertical-align: top;\n",
              "    }\n",
              "\n",
              "    .dataframe thead th {\n",
              "        text-align: right;\n",
              "    }\n",
              "</style>\n",
              "<table border=\"1\" class=\"dataframe\">\n",
              "  <thead>\n",
              "    <tr style=\"text-align: right;\">\n",
              "      <th></th>\n",
              "      <th>stdID</th>\n",
              "      <th>mid-term</th>\n",
              "      <th>final</th>\n",
              "      <th>faculty</th>\n",
              "      <th>department</th>\n",
              "      <th>achievement_grade</th>\n",
              "      <th>final_grade</th>\n",
              "    </tr>\n",
              "  </thead>\n",
              "  <tbody>\n",
              "    <tr>\n",
              "      <th>0</th>\n",
              "      <td>std1</td>\n",
              "      <td>60</td>\n",
              "      <td>68</td>\n",
              "      <td>9</td>\n",
              "      <td>26</td>\n",
              "      <td>64.8</td>\n",
              "      <td>3</td>\n",
              "    </tr>\n",
              "    <tr>\n",
              "      <th>1</th>\n",
              "      <td>std2</td>\n",
              "      <td>34</td>\n",
              "      <td>67</td>\n",
              "      <td>0</td>\n",
              "      <td>0</td>\n",
              "      <td>53.8</td>\n",
              "      <td>3</td>\n",
              "    </tr>\n",
              "    <tr>\n",
              "      <th>2</th>\n",
              "      <td>std3</td>\n",
              "      <td>25</td>\n",
              "      <td>75</td>\n",
              "      <td>1</td>\n",
              "      <td>6</td>\n",
              "      <td>55.0</td>\n",
              "      <td>3</td>\n",
              "    </tr>\n",
              "    <tr>\n",
              "      <th>3</th>\n",
              "      <td>std4</td>\n",
              "      <td>50</td>\n",
              "      <td>66</td>\n",
              "      <td>1</td>\n",
              "      <td>27</td>\n",
              "      <td>59.6</td>\n",
              "      <td>3</td>\n",
              "    </tr>\n",
              "    <tr>\n",
              "      <th>4</th>\n",
              "      <td>std5</td>\n",
              "      <td>50</td>\n",
              "      <td>66</td>\n",
              "      <td>1</td>\n",
              "      <td>23</td>\n",
              "      <td>59.6</td>\n",
              "      <td>3</td>\n",
              "    </tr>\n",
              "    <tr>\n",
              "      <th>...</th>\n",
              "      <td>...</td>\n",
              "      <td>...</td>\n",
              "      <td>...</td>\n",
              "      <td>...</td>\n",
              "      <td>...</td>\n",
              "      <td>...</td>\n",
              "      <td>...</td>\n",
              "    </tr>\n",
              "    <tr>\n",
              "      <th>1849</th>\n",
              "      <td>std1850</td>\n",
              "      <td>70</td>\n",
              "      <td>84</td>\n",
              "      <td>4</td>\n",
              "      <td>37</td>\n",
              "      <td>78.4</td>\n",
              "      <td>4</td>\n",
              "    </tr>\n",
              "    <tr>\n",
              "      <th>1850</th>\n",
              "      <td>std1851</td>\n",
              "      <td>60</td>\n",
              "      <td>60</td>\n",
              "      <td>4</td>\n",
              "      <td>37</td>\n",
              "      <td>60.0</td>\n",
              "      <td>3</td>\n",
              "    </tr>\n",
              "    <tr>\n",
              "      <th>1851</th>\n",
              "      <td>std1852</td>\n",
              "      <td>56</td>\n",
              "      <td>76</td>\n",
              "      <td>4</td>\n",
              "      <td>37</td>\n",
              "      <td>68.0</td>\n",
              "      <td>3</td>\n",
              "    </tr>\n",
              "    <tr>\n",
              "      <th>1852</th>\n",
              "      <td>std1853</td>\n",
              "      <td>56</td>\n",
              "      <td>62</td>\n",
              "      <td>4</td>\n",
              "      <td>37</td>\n",
              "      <td>59.6</td>\n",
              "      <td>3</td>\n",
              "    </tr>\n",
              "    <tr>\n",
              "      <th>1853</th>\n",
              "      <td>std1854</td>\n",
              "      <td>56</td>\n",
              "      <td>92</td>\n",
              "      <td>4</td>\n",
              "      <td>37</td>\n",
              "      <td>77.6</td>\n",
              "      <td>4</td>\n",
              "    </tr>\n",
              "  </tbody>\n",
              "</table>\n",
              "<p>1854 rows × 7 columns</p>\n",
              "</div>\n",
              "      <button class=\"colab-df-convert\" onclick=\"convertToInteractive('df-4da46bea-d6db-4b38-bdeb-b6c3fdc471f8')\"\n",
              "              title=\"Convert this dataframe to an interactive table.\"\n",
              "              style=\"display:none;\">\n",
              "        \n",
              "  <svg xmlns=\"http://www.w3.org/2000/svg\" height=\"24px\"viewBox=\"0 0 24 24\"\n",
              "       width=\"24px\">\n",
              "    <path d=\"M0 0h24v24H0V0z\" fill=\"none\"/>\n",
              "    <path d=\"M18.56 5.44l.94 2.06.94-2.06 2.06-.94-2.06-.94-.94-2.06-.94 2.06-2.06.94zm-11 1L8.5 8.5l.94-2.06 2.06-.94-2.06-.94L8.5 2.5l-.94 2.06-2.06.94zm10 10l.94 2.06.94-2.06 2.06-.94-2.06-.94-.94-2.06-.94 2.06-2.06.94z\"/><path d=\"M17.41 7.96l-1.37-1.37c-.4-.4-.92-.59-1.43-.59-.52 0-1.04.2-1.43.59L10.3 9.45l-7.72 7.72c-.78.78-.78 2.05 0 2.83L4 21.41c.39.39.9.59 1.41.59.51 0 1.02-.2 1.41-.59l7.78-7.78 2.81-2.81c.8-.78.8-2.07 0-2.86zM5.41 20L4 18.59l7.72-7.72 1.47 1.35L5.41 20z\"/>\n",
              "  </svg>\n",
              "      </button>\n",
              "      \n",
              "  <style>\n",
              "    .colab-df-container {\n",
              "      display:flex;\n",
              "      flex-wrap:wrap;\n",
              "      gap: 12px;\n",
              "    }\n",
              "\n",
              "    .colab-df-convert {\n",
              "      background-color: #E8F0FE;\n",
              "      border: none;\n",
              "      border-radius: 50%;\n",
              "      cursor: pointer;\n",
              "      display: none;\n",
              "      fill: #1967D2;\n",
              "      height: 32px;\n",
              "      padding: 0 0 0 0;\n",
              "      width: 32px;\n",
              "    }\n",
              "\n",
              "    .colab-df-convert:hover {\n",
              "      background-color: #E2EBFA;\n",
              "      box-shadow: 0px 1px 2px rgba(60, 64, 67, 0.3), 0px 1px 3px 1px rgba(60, 64, 67, 0.15);\n",
              "      fill: #174EA6;\n",
              "    }\n",
              "\n",
              "    [theme=dark] .colab-df-convert {\n",
              "      background-color: #3B4455;\n",
              "      fill: #D2E3FC;\n",
              "    }\n",
              "\n",
              "    [theme=dark] .colab-df-convert:hover {\n",
              "      background-color: #434B5C;\n",
              "      box-shadow: 0px 1px 3px 1px rgba(0, 0, 0, 0.15);\n",
              "      filter: drop-shadow(0px 1px 2px rgba(0, 0, 0, 0.3));\n",
              "      fill: #FFFFFF;\n",
              "    }\n",
              "  </style>\n",
              "\n",
              "      <script>\n",
              "        const buttonEl =\n",
              "          document.querySelector('#df-4da46bea-d6db-4b38-bdeb-b6c3fdc471f8 button.colab-df-convert');\n",
              "        buttonEl.style.display =\n",
              "          google.colab.kernel.accessAllowed ? 'block' : 'none';\n",
              "\n",
              "        async function convertToInteractive(key) {\n",
              "          const element = document.querySelector('#df-4da46bea-d6db-4b38-bdeb-b6c3fdc471f8');\n",
              "          const dataTable =\n",
              "            await google.colab.kernel.invokeFunction('convertToInteractive',\n",
              "                                                     [key], {});\n",
              "          if (!dataTable) return;\n",
              "\n",
              "          const docLinkHtml = 'Like what you see? Visit the ' +\n",
              "            '<a target=\"_blank\" href=https://colab.research.google.com/notebooks/data_table.ipynb>data table notebook</a>'\n",
              "            + ' to learn more about interactive tables.';\n",
              "          element.innerHTML = '';\n",
              "          dataTable['output_type'] = 'display_data';\n",
              "          await google.colab.output.renderOutput(dataTable, element);\n",
              "          const docLink = document.createElement('div');\n",
              "          docLink.innerHTML = docLinkHtml;\n",
              "          element.appendChild(docLink);\n",
              "        }\n",
              "      </script>\n",
              "    </div>\n",
              "  </div>\n",
              "  "
            ]
          },
          "metadata": {},
          "execution_count": 8
        }
      ]
    },
    {
      "cell_type": "code",
      "source": [
        "X = turkish_df[['mid-term', 'final', 'faculty', 'department']]\n",
        "y = turkish_df['final_grade']\n",
        "X_train, X_test, y_train, y_test = train_test_split(X, y, test_size=0.2, random_state=42)\n",
        "\n",
        "print(\"Training Shape: \"+str(X_train.shape))\n",
        "print(\"Testing Shape: \"+str(X_test.shape))"
      ],
      "metadata": {
        "colab": {
          "base_uri": "https://localhost:8080/"
        },
        "id": "18OboEC33fG6",
        "outputId": "2ed02f63-caca-4894-9635-ab322d909b04"
      },
      "execution_count": 9,
      "outputs": [
        {
          "output_type": "stream",
          "name": "stdout",
          "text": [
            "Training Shape: (1483, 4)\n",
            "Testing Shape: (371, 4)\n"
          ]
        }
      ]
    },
    {
      "cell_type": "markdown",
      "source": [
        "## Decision Trees"
      ],
      "metadata": {
        "id": "Gf_C7VCk9X9U"
      }
    },
    {
      "cell_type": "code",
      "source": [
        "classifier = DecisionTreeClassifier()\n",
        "classifier.fit(X_train, y_train)\n",
        "\n",
        "y_pred = classifier.predict(X_test)\n",
        "\n",
        "accuracy_dt = accuracy_score(y_test, y_pred)\n",
        "precision_dt = precision_score(y_test, y_pred, average='weighted')\n",
        "recall_dt = recall_score(y_test, y_pred, average='weighted')\n",
        "f1_dt = f1_score(y_test, y_pred, average='weighted')\n",
        "\n",
        "# Generate classification report\n",
        "report = classification_report(y_test, y_pred)\n",
        "print(\"Random Forest Classifier Metrics:\")\n",
        "print(\"Accuracy:\", accuracy_dt)\n",
        "print(\"Precision:\", precision_dt)\n",
        "print(\"Recall:\", recall_dt)\n",
        "print(\"F1 Score:\", f1_dt)\n",
        "print(\"Classification Report:\")\n",
        "print(report)"
      ],
      "metadata": {
        "colab": {
          "base_uri": "https://localhost:8080/"
        },
        "id": "FWj6Xmtp3hUl",
        "outputId": "0060519c-555d-40b0-f561-4f869a1ace37"
      },
      "execution_count": 10,
      "outputs": [
        {
          "output_type": "stream",
          "name": "stdout",
          "text": [
            "Random Forest Classifier Metrics:\n",
            "Accuracy: 1.0\n",
            "Precision: 1.0\n",
            "Recall: 1.0\n",
            "F1 Score: 1.0\n",
            "Classification Report:\n",
            "              precision    recall  f1-score   support\n",
            "\n",
            "           1       1.00      1.00      1.00         7\n",
            "           2       1.00      1.00      1.00        45\n",
            "           3       1.00      1.00      1.00       180\n",
            "           4       1.00      1.00      1.00       139\n",
            "\n",
            "    accuracy                           1.00       371\n",
            "   macro avg       1.00      1.00      1.00       371\n",
            "weighted avg       1.00      1.00      1.00       371\n",
            "\n"
          ]
        }
      ]
    },
    {
      "cell_type": "code",
      "source": [
        "# Calculate the confusion matrix\n",
        "confusion = confusion_matrix(y_test, y_pred)\n",
        "\n",
        "# Define class labels\n",
        "class_labels = ['1', '2', '3', '4']\n",
        "\n",
        "# Create a DataFrame for the confusion matrix\n",
        "confusion_df = pd.DataFrame(confusion, index=class_labels, columns=class_labels)\n",
        "\n",
        "# Plot the confusion matrix\n",
        "plt.figure(figsize=(8, 6))\n",
        "sns.heatmap(confusion_df, annot=True, fmt=\"d\", cmap='Blues')\n",
        "plt.title('Confusion Matrix')\n",
        "plt.xlabel('Predicted')\n",
        "plt.ylabel('Actual')\n",
        "plt.show()"
      ],
      "metadata": {
        "colab": {
          "base_uri": "https://localhost:8080/",
          "height": 564
        },
        "id": "oOuXMe6K-EHl",
        "outputId": "61e2e194-2ac1-40dd-b25e-e32df60cd946"
      },
      "execution_count": 11,
      "outputs": [
        {
          "output_type": "display_data",
          "data": {
            "text/plain": [
              "<Figure size 800x600 with 2 Axes>"
            ],
            "image/png": "[encoded data removed]"
          },
          "metadata": {}
        }
      ]
    },
    {
      "cell_type": "code",
      "source": [
        "results = pd.DataFrame({'Actual Grade': y_test, 'Predicted Grade': y_pred})\n",
        "\n",
        "\n",
        "print(results)"
      ],
      "metadata": {
        "colab": {
          "base_uri": "https://localhost:8080/"
        },
        "id": "K23C5cRb4fUQ",
        "outputId": "821ee2dd-ce47-4446-a82e-86405edd836b"
      },
      "execution_count": 12,
      "outputs": [
        {
          "output_type": "stream",
          "name": "stdout",
          "text": [
            "      Actual Grade  Predicted Grade\n",
            "233              3                3\n",
            "450              3                3\n",
            "1240             3                3\n",
            "1693             3                3\n",
            "411              4                4\n",
            "...            ...              ...\n",
            "471              2                2\n",
            "777              3                3\n",
            "413              3                3\n",
            "271              4                4\n",
            "184              3                3\n",
            "\n",
            "[371 rows x 2 columns]\n"
          ]
        }
      ]
    },
    {
      "cell_type": "markdown",
      "source": [
        "## Random Forest"
      ],
      "metadata": {
        "id": "-Q1juBEI-cUv"
      }
    },
    {
      "cell_type": "code",
      "source": [
        "classifier = RandomForestClassifier()\n",
        "classifier.fit(X_train, y_train)\n",
        "\n",
        "y_pred = classifier.predict(X_test)\n",
        "\n",
        "accuracy_rf = accuracy_score(y_test, y_pred)\n",
        "precision_rf = precision_score(y_test, y_pred, average='weighted')\n",
        "recall_rf = recall_score(y_test, y_pred, average='weighted')\n",
        "f1_rf = f1_score(y_test, y_pred, average='weighted')\n",
        "\n",
        "# Generate classification report\n",
        "report = classification_report(y_test, y_pred)\n",
        "print(\"Random Forest Classifier Metrics:\")\n",
        "print(\"Accuracy:\", accuracy_rf)\n",
        "print(\"Precision:\", precision_rf)\n",
        "print(\"Recall:\", recall_rf)\n",
        "print(\"F1 Score:\", f1_rf)\n",
        "print(\"Classification Report:\")\n",
        "print(report)"
      ],
      "metadata": {
        "colab": {
          "base_uri": "https://localhost:8080/"
        },
        "id": "c9aZCZuR76YI",
        "outputId": "e59628da-c1b0-4908-ee1d-9774cb3d2feb"
      },
      "execution_count": 13,
      "outputs": [
        {
          "output_type": "stream",
          "name": "stdout",
          "text": [
            "Random Forest Classifier Metrics:\n",
            "Accuracy: 1.0\n",
            "Precision: 1.0\n",
            "Recall: 1.0\n",
            "F1 Score: 1.0\n",
            "Classification Report:\n",
            "              precision    recall  f1-score   support\n",
            "\n",
            "           1       1.00      1.00      1.00         7\n",
            "           2       1.00      1.00      1.00        45\n",
            "           3       1.00      1.00      1.00       180\n",
            "           4       1.00      1.00      1.00       139\n",
            "\n",
            "    accuracy                           1.00       371\n",
            "   macro avg       1.00      1.00      1.00       371\n",
            "weighted avg       1.00      1.00      1.00       371\n",
            "\n"
          ]
        }
      ]
    },
    {
      "cell_type": "code",
      "source": [
        "# Calculate the confusion matrix\n",
        "confusion = confusion_matrix(y_test, y_pred)\n",
        "\n",
        "# Define class labels\n",
        "class_labels = ['1', '2', '3', '4']\n",
        "\n",
        "# Create a DataFrame for the confusion matrix\n",
        "confusion_df = pd.DataFrame(confusion, index=class_labels, columns=class_labels)\n",
        "\n",
        "# Plot the confusion matrix\n",
        "plt.figure(figsize=(8, 6))\n",
        "sns.heatmap(confusion_df, annot=True, fmt=\"d\", cmap='Blues')\n",
        "plt.title('Confusion Matrix')\n",
        "plt.xlabel('Predicted')\n",
        "plt.ylabel('Actual')\n",
        "plt.show()"
      ],
      "metadata": {
        "colab": {
          "base_uri": "https://localhost:8080/",
          "height": 564
        },
        "outputId": "4428c1be-1432-4fc4-8352-e855c2aeb7ab",
        "id": "iacx1-JtAtnt"
      },
      "execution_count": 14,
      "outputs": [
        {
          "output_type": "display_data",
          "data": {
            "text/plain": [
              "<Figure size 800x600 with 2 Axes>"
            ],
            "image/png": "[encoded data removed]"
          },
          "metadata": {}
        }
      ]
    },
    {
      "cell_type": "markdown",
      "source": [
        "## Logistic Regression"
      ],
      "metadata": {
        "id": "Yl72gxuk-qbL"
      }
    },
    {
      "cell_type": "code",
      "source": [
        "classifier = LogisticRegression()\n",
        "classifier.fit(X_train, y_train)\n",
        "\n",
        "y_pred = classifier.predict(X_test)\n",
        "\n",
        "accuracy_lr = accuracy_score(y_test, y_pred)\n",
        "precision_lr = precision_score(y_test, y_pred, average='weighted')\n",
        "recall_lr = recall_score(y_test, y_pred, average='weighted')\n",
        "f1_lr = f1_score(y_test, y_pred, average='weighted')\n",
        "\n",
        "# Generate classification report\n",
        "report = classification_report(y_test, y_pred)\n",
        "print(\"Random Forest Classifier Metrics:\")\n",
        "print(\"Accuracy:\", accuracy_lr)\n",
        "print(\"Precision:\", precision_lr)\n",
        "print(\"Recall:\", recall_lr)\n",
        "print(\"F1 Score:\", f1_lr)\n",
        "print(\"Classification Report:\")\n",
        "print(report)"
      ],
      "metadata": {
        "colab": {
          "base_uri": "https://localhost:8080/"
        },
        "id": "GhtoJ2R9-um8",
        "outputId": "2f7ad02a-ede2-4dc1-df24-c14f95108d93"
      },
      "execution_count": 15,
      "outputs": [
        {
          "output_type": "stream",
          "name": "stdout",
          "text": [
            "Random Forest Classifier Metrics:\n",
            "Accuracy: 0.8221024258760108\n",
            "Precision: 0.8085963954334183\n",
            "Recall: 0.8221024258760108\n",
            "F1 Score: 0.8026466227771377\n",
            "Classification Report:\n",
            "              precision    recall  f1-score   support\n",
            "\n",
            "           1       0.50      0.43      0.46         7\n",
            "           2       0.50      0.20      0.29        45\n",
            "           3       0.77      0.94      0.84       180\n",
            "           4       0.98      0.89      0.93       139\n",
            "\n",
            "    accuracy                           0.82       371\n",
            "   macro avg       0.69      0.61      0.63       371\n",
            "weighted avg       0.81      0.82      0.80       371\n",
            "\n"
          ]
        },
        {
          "output_type": "stream",
          "name": "stderr",
          "text": [
            "/usr/local/lib/python3.10/dist-packages/sklearn/linear_model/_logistic.py:458: ConvergenceWarning: lbfgs failed to converge (status=1):\n",
            "STOP: TOTAL NO. of ITERATIONS REACHED LIMIT.\n",
            "\n",
            "Increase the number of iterations (max_iter) or scale the data as shown in:\n",
            "    https://scikit-learn.org/stable/modules/preprocessing.html\n",
            "Please also refer to the documentation for alternative solver options:\n",
            "    https://scikit-learn.org/stable/modules/linear_model.html#logistic-regression\n",
            "  n_iter_i = _check_optimize_result(\n"
          ]
        }
      ]
    },
    {
      "cell_type": "code",
      "source": [
        "# Calculate the confusion matrix\n",
        "confusion = confusion_matrix(y_test, y_pred)\n",
        "\n",
        "# Define class labels\n",
        "class_labels = ['1', '2', '3', '4']\n",
        "\n",
        "# Create a DataFrame for the confusion matrix\n",
        "confusion_df = pd.DataFrame(confusion, index=class_labels, columns=class_labels)\n",
        "\n",
        "# Plot the confusion matrix\n",
        "plt.figure(figsize=(8, 6))\n",
        "sns.heatmap(confusion_df, annot=True, fmt=\"d\", cmap='Blues')\n",
        "plt.title('Confusion Matrix')\n",
        "plt.xlabel('Predicted')\n",
        "plt.ylabel('Actual')\n",
        "plt.show()"
      ],
      "metadata": {
        "colab": {
          "base_uri": "https://localhost:8080/",
          "height": 564
        },
        "outputId": "e1ec5130-4c2e-4b31-e129-8c9ce593a195",
        "id": "-alJEiKKAyos"
      },
      "execution_count": 16,
      "outputs": [
        {
          "output_type": "display_data",
          "data": {
            "text/plain": [
              "<Figure size 800x600 with 2 Axes>"
            ],
            "image/png": "[encoded data removed]"
          },
          "metadata": {}
        }
      ]
    },
    {
      "cell_type": "markdown",
      "source": [
        "## Support Vector Machine (SVM)"
      ],
      "metadata": {
        "id": "navORkH2--Ot"
      }
    },
    {
      "cell_type": "code",
      "source": [
        "classifier = SVC()\n",
        "classifier.fit(X_train, y_train)\n",
        "\n",
        "y_pred = classifier.predict(X_test)\n",
        "\n",
        "accuracy_svm = accuracy_score(y_test, y_pred)\n",
        "precision_svm = precision_score(y_test, y_pred, average='weighted')\n",
        "recall_svm = recall_score(y_test, y_pred, average='weighted')\n",
        "f1_svm = f1_score(y_test, y_pred, average='weighted')\n",
        "\n",
        "# Generate classification report\n",
        "report = classification_report(y_test, y_pred)\n",
        "print(\"Random Forest Classifier Metrics:\")\n",
        "print(\"Accuracy:\", accuracy_svm)\n",
        "print(\"Precision:\", precision_svm)\n",
        "print(\"Recall:\", recall_svm)\n",
        "print(\"F1 Score:\", f1_svm)\n",
        "print(\"Classification Report:\")\n",
        "print(report)"
      ],
      "metadata": {
        "colab": {
          "base_uri": "https://localhost:8080/"
        },
        "id": "8fMcqLRg_Ege",
        "outputId": "bb139265-6a7e-42b8-dc54-f7a239525b57"
      },
      "execution_count": 17,
      "outputs": [
        {
          "output_type": "stream",
          "name": "stdout",
          "text": [
            "Random Forest Classifier Metrics:\n",
            "Accuracy: 0.9622641509433962\n",
            "Precision: 0.9663975952921917\n",
            "Recall: 0.9622641509433962\n",
            "F1 Score: 0.9604543692913182\n",
            "Classification Report:\n",
            "              precision    recall  f1-score   support\n",
            "\n",
            "           1       0.70      1.00      0.82         7\n",
            "           2       1.00      0.71      0.83        45\n",
            "           3       0.94      1.00      0.97       180\n",
            "           4       1.00      0.99      1.00       139\n",
            "\n",
            "    accuracy                           0.96       371\n",
            "   macro avg       0.91      0.93      0.91       371\n",
            "weighted avg       0.97      0.96      0.96       371\n",
            "\n"
          ]
        }
      ]
    },
    {
      "cell_type": "code",
      "source": [
        "# Calculate the confusion matrix\n",
        "confusion = confusion_matrix(y_test, y_pred)\n",
        "\n",
        "# Define class labels\n",
        "class_labels = ['1', '2', '3', '4']\n",
        "\n",
        "# Create a DataFrame for the confusion matrix\n",
        "confusion_df = pd.DataFrame(confusion, index=class_labels, columns=class_labels)\n",
        "\n",
        "# Plot the confusion matrix\n",
        "plt.figure(figsize=(8, 6))\n",
        "sns.heatmap(confusion_df, annot=True, fmt=\"d\", cmap='Blues')\n",
        "plt.title('Confusion Matrix')\n",
        "plt.xlabel('Predicted')\n",
        "plt.ylabel('Actual')\n",
        "plt.show()"
      ],
      "metadata": {
        "colab": {
          "base_uri": "https://localhost:8080/",
          "height": 564
        },
        "outputId": "62b77a7a-aad5-44e5-a499-2532592b49a1",
        "id": "JgiadeYXA0et"
      },
      "execution_count": 18,
      "outputs": [
        {
          "output_type": "display_data",
          "data": {
            "text/plain": [
              "<Figure size 800x600 with 2 Axes>"
            ],
            "image/png": "[encoded data removed]"
          },
          "metadata": {}
        }
      ]
    },
    {
      "cell_type": "code",
      "source": [
        "# Evaluation metrics for each model\n",
        "models = ['Decision Tree', 'Random Forest', 'Logistic Regression', 'SVM']\n",
        "accuracy = [accuracy_dt, accuracy_rf, accuracy_lr, accuracy_svm]\n",
        "precision = [precision_dt, precision_rf, precision_lr, precision_svm]\n",
        "recall = [recall_dt, recall_rf, recall_lr, recall_svm]\n",
        "f1 = [f1_dt, f1_rf, f1_lr, f1_svm]\n",
        "\n",
        "# Create a bar plot\n",
        "x = range(len(models))\n",
        "width = 0.2\n",
        "\n",
        "plt.figure(figsize=(10, 6))\n",
        "plt.bar(x, accuracy, width, label='Accuracy')\n",
        "plt.bar([i + width for i in x], precision, width, label='Precision')\n",
        "plt.bar([i + 2 * width for i in x], recall, width, label='Recall')\n",
        "plt.bar([i + 3 * width for i in x], f1, width, label='F1 Score')\n",
        "\n",
        "plt.xlabel('Models')\n",
        "plt.ylabel('Scores')\n",
        "plt.title('Model Performance Comparison')\n",
        "plt.xticks([i + 1.5 * width for i in x], models)\n",
        "plt.legend(fontsize='small', bbox_to_anchor=(1.02, 1.0))\n",
        "plt.show()"
      ],
      "metadata": {
        "colab": {
          "base_uri": "https://localhost:8080/",
          "height": 564
        },
        "id": "5cH0k5OJ__Dc",
        "outputId": "b3936e0c-a96b-412a-a4ad-447079695e37"
      },
      "execution_count": 19,
      "outputs": [
        {
          "output_type": "display_data",
          "data": {
            "text/plain": [
              "<Figure size 1000x600 with 1 Axes>"
            ],
            "image/png": "[encoded data removed]"
          },
          "metadata": {}
        }
      ]
    }
  ]
}